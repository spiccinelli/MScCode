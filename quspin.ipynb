{
 "cells": [
  {
   "cell_type": "markdown",
   "metadata": {},
   "source": [
    "## QuSpin implementation\n",
    "\n",
    "The [Lanczos decomposition](http://weinbe58.github.io/QuSpin/generated/quspin.tools.lanczos.expm_lanczos.html) $(E,V,Q)$ with initial state $v_0$ of a hermitian matrix $A$ can be used to compute the matrix exponential $\\exp(aA)\\ket{v_0}$ applied to the quantum state $\\ket{v_0}$, without actually computing the exact matrix exponential.<br>\n",
    "Let $A \\approx Q T Q^\\dagger$ with $T=V \\mathrm{diag}(E) V^T$. Then, we can compute an approximation to the matrix exponential, applied to a state $\\ket{\\psi}$ as follows:\n",
    "\\begin{equation*}\n",
    "\\exp(a A)\\ket{v_0} \\approx Q \\exp(a T) Q^\\dagger \\ket{v_0} = Q V \\mathrm{diag}(e^{a E}) V^T Q^\\dagger \\ket{v_0}.\n",
    "\\end{equation*}\n",
    "If we use $\\ket{v_0}$ as the (nondegenerate) initial state for the Lanczos algorithm, then $\\sum_{j,k}V^T_{ij}Q^\\dagger_{jk}v_{0,k} = \\sum_{j}V_{ji}\\delta_{0,j} = V_{i,0}$ since by construction, $\\ket{v_0}$ is the $0$-th row of $Q$ and all the rows are orthonormal, and the expression simplifies further."
   ]
  },
  {
   "cell_type": "code",
   "execution_count": 1,
   "metadata": {},
   "outputs": [],
   "source": [
    "%matplotlib inline\n",
    "import matplotlib.pyplot as plt\n",
    "from matplotlib import rc\n",
    "rc('font',**{'size':11, 'family':'serif','serif':['Computer Modern Roman']})\n",
    "rc('text', usetex=True)\n",
    "rc('mathtext', **{'fontset':'cm'})\n",
    "rc('xtick', labelsize = 11)\n",
    "rc('ytick', labelsize = 11)\n",
    "import numpy as np\n",
    "from numpy import array, ndarray\n",
    "\n",
    "from quspin.operators import hamiltonian, quantum_LinearOperator\n",
    "from quspin.basis import boson_basis_1d\n",
    "from quspin.tools.lanczos import lanczos_iter, expm_lanczos"
   ]
  },
  {
   "cell_type": "code",
   "execution_count": 2,
   "metadata": {},
   "outputs": [],
   "source": [
    "def input_parameters(Nt: int, T: int) -> int:\n",
    "    '''\n",
    "    defines input parameters:\n",
    "        - Nt: nr of time steps & nr of time-evolving unitary operators\n",
    "        - N: nr of elements in the wave functions\n",
    "        - T: time window in units of pi\n",
    "        - controls are N (Nt) for the trapezoidal (rectangular) rule\n",
    "    '''\n",
    "    N = Nt + 1\n",
    "    delta_t = T / Nt\n",
    "\n",
    "    print('# time steps:\\t', Nt)\n",
    "    print('time step:\\t', delta_t)\n",
    "\n",
    "    return N, delta_t"
   ]
  },
  {
   "cell_type": "code",
   "execution_count": 3,
   "metadata": {},
   "outputs": [
    {
     "name": "stdout",
     "output_type": "stream",
     "text": [
      "# time steps:\t 100\n",
      "time step:\t 0.028300000000000002\n"
     ]
    }
   ],
   "source": [
    "N, delta_t = input_parameters(Nt=100, T=2.83)\n",
    "\n",
    "N_trap = N\n",
    "N_rect = N - 1"
   ]
  },
  {
   "cell_type": "code",
   "execution_count": 4,
   "metadata": {},
   "outputs": [],
   "source": [
    "dim = 3                 # global dimension\n",
    "d = 3                   # local dimension\n",
    "D_H = d**dim            # Hilbert space dimension\n",
    "subdim = 2**dim         # subspace dimension for the gate transfer"
   ]
  },
  {
   "cell_type": "code",
   "execution_count": 5,
   "metadata": {},
   "outputs": [],
   "source": [
    "# Hamiltonian parameters (in mega units): how to re-scale them properly?\n",
    "\n",
    "twopi = 2 * np.pi\n",
    "omega_1 = 5. * 1e3 * twopi\n",
    "omega_2 = 5.5 * 1e3 * twopi\n",
    "delta_1 = -350 * twopi\n",
    "delta_2 = delta_1\n",
    "omega_r = 7.5 * 1e3 * twopi\n",
    "g_1 = 100 * twopi\n",
    "g_2 = g_1\n",
    "\n",
    "Delta_1 = omega_1 - omega_r\n",
    "Delta_2 = omega_2 - omega_r\n",
    "omega_tilde_1 = omega_1 + (g_1**2 / Delta_1)\n",
    "omega_tilde_2 = omega_2 + (g_2**2 / Delta_2)\n",
    "\n",
    "J = (g_1 * g_2 * (Delta_1 + Delta_2)) / (Delta_1 * Delta_2)\n",
    "Delta = omega_tilde_2 - omega_tilde_1"
   ]
  },
  {
   "cell_type": "code",
   "execution_count": 6,
   "metadata": {},
   "outputs": [],
   "source": [
    "# simple repeated parameters\n",
    "\n",
    "Deltas = np.repeat(Delta, dim - 1)\n",
    "deltas = np.repeat(delta_1, dim)\n",
    "Js = np.repeat(J, dim)\n",
    "\n",
    "rcontrol_start = np.random.uniform(-1, 1, N_trap)\n",
    "\n",
    "# here we assume constant control for each transmon\n",
    "u_n = 1 # rcontrol_start[0]"
   ]
  },
  {
   "cell_type": "markdown",
   "metadata": {},
   "source": [
    "$$\\hat{H}_n = \\sum^{N}_{j=1}\\left[\\Delta_j\\hat{b}^\\dagger_j\\hat{b}_j+\\frac{1}{2}\\delta_j\\hat{b}^\\dagger_j\\hat{b}_j(\\hat{b}^\\dagger_j\\hat{b}_j-1)+\\sum_{\\langle i, j\\rangle}J_{ij}(\\hat{b}^\\dagger_i\\hat{b}_j+\\hat{b}_i\\hat{b}^\\dagger_j)+u^{(j)}_n(\\hat{b}^\\dagger_j+\\hat{b}_j)\\right]=\\hat{H}_d+\\hat{H}^c_n$$"
   ]
  },
  {
   "cell_type": "code",
   "execution_count": 7,
   "metadata": {},
   "outputs": [],
   "source": [
    "# construct basis\n",
    "\n",
    "basis = boson_basis_1d(L=dim, sps=d)\n",
    "\n",
    "# define OBC site-coupling lists for operators\n",
    "\n",
    "duff1 = [[Deltas[n], n] for n in range(dim-1)]\n",
    "duff2 = [[1/2 * deltas[n], n, n] for n in range(dim)]\n",
    "\n",
    "coup = [[Js[n], n, n+1] for n in range(dim-1)]\n",
    "ctrl = [[u_n, n] for n in range(dim-1)]"
   ]
  },
  {
   "cell_type": "code",
   "execution_count": 8,
   "metadata": {},
   "outputs": [
    {
     "name": "stdout",
     "output_type": "stream",
     "text": [
      "Hermiticity check passed!\n"
     ]
    }
   ],
   "source": [
    "# control Hamiltonian\n",
    "\n",
    "stat = [['+', ctrl], ['-', ctrl]]\n",
    "dyna = []\n",
    "\n",
    "Hc = hamiltonian(stat, dyna, static_fmt='csr', dtype=np.float64, basis=basis, check_symm=False)"
   ]
  },
  {
   "cell_type": "code",
   "execution_count": 9,
   "metadata": {},
   "outputs": [],
   "source": [
    "# diagonalize control Hamiltonian\n",
    "\n",
    "e, R = Hc.eigh()\n",
    "rotate = lambda x: R.T @ x @ R\n",
    "Hc = rotate(Hc.toarray()).diagonal()"
   ]
  },
  {
   "cell_type": "code",
   "execution_count": 10,
   "metadata": {},
   "outputs": [],
   "source": [
    "# drift Hamiltonian\n",
    "\n",
    "stat = [['n', duff1], ['nz', duff2], ['+-', coup], ['-+', coup]]\n",
    "\n",
    "Hd = hamiltonian(stat, [], static_fmt='csr', dtype=np.float64, basis=basis, check_symm=False, check_herm=False)\n",
    "# Hd = quantum_LinearOperator(stat, basis=basis, dtype=np.float64, check_symm=False, check_herm=False)"
   ]
  },
  {
   "cell_type": "code",
   "execution_count": 11,
   "metadata": {},
   "outputs": [
    {
     "data": {
      "text/plain": [
       "False"
      ]
     },
     "execution_count": 11,
     "metadata": {},
     "output_type": "execute_result"
    }
   ],
   "source": [
    "from quspin.operators import isquantum_LinearOperator\n",
    "\n",
    "isquantum_LinearOperator(Hd)"
   ]
  },
  {
   "cell_type": "markdown",
   "metadata": {},
   "source": [
    "quantum_LinearOperator [issue](https://github.com/weinbe58/QuSpin/issues/398) with \"out\" argument on GitHub."
   ]
  },
  {
   "cell_type": "code",
   "execution_count": 12,
   "metadata": {},
   "outputs": [
    {
     "data": {
      "text/plain": [
       "array([ 0.12915596-1.01715318e-01j, -0.04100485-2.09507940e-01j,\n",
       "       -0.08228383-1.67086283e-01j, -0.00644838-1.45385331e-01j,\n",
       "       -0.11672361-1.50994402e-01j, -0.1540955 -6.52905572e-02j,\n",
       "       -0.10047776-1.10502896e-01j, -0.31546015+1.05548372e-01j,\n",
       "       -0.31116288+1.16433557e-01j,  0.04250193-1.31130772e-01j,\n",
       "       -0.19306238-1.02257554e-01j, -0.08077983-4.44924217e-02j,\n",
       "       -0.09931504+5.58366250e-02j, -0.04691773+2.81531783e-01j,\n",
       "       -0.02032209+9.74185952e-03j, -0.22491383-7.21786709e-02j,\n",
       "       -0.14528777+8.94553545e-02j, -0.21069431+8.89425074e-02j,\n",
       "       -0.20407326-1.01968900e-01j, -0.21436374+8.67517177e-02j,\n",
       "       -0.17840289+1.00896523e-01j, -0.00661893-8.69983992e-02j,\n",
       "       -0.01989103-1.93625498e-02j, -0.2173712 +1.00039139e-01j,\n",
       "        0.02528698+2.83366057e-02j,  0.1991274 +1.59100688e-02j,\n",
       "        0.0429378 +7.62426218e-07j])"
      ]
     },
     "execution_count": 12,
     "metadata": {},
     "output_type": "execute_result"
    }
   ],
   "source": [
    "# the initial state v0 used is the state the matrix exponential is evaluated on\n",
    "\n",
    "np.random.seed(0)\n",
    "v0 = np.random.rand(D_H)\n",
    "E, V, Q_T = lanczos_iter(Hd, v0, 20)\n",
    "prefactor = -1j * np.pi * delta_t\n",
    "lanczos = expm_lanczos(E, V, Q_T, a = prefactor)\n",
    "\n",
    "lanczos"
   ]
  },
  {
   "cell_type": "code",
   "execution_count": 13,
   "metadata": {},
   "outputs": [],
   "source": [
    "from scipy.linalg import expm\n",
    "\n",
    "exact = expm(prefactor * Hd.toarray()) @ v0"
   ]
  },
  {
   "cell_type": "code",
   "execution_count": 14,
   "metadata": {},
   "outputs": [
    {
     "data": {
      "text/plain": [
       "array([ 0.01419733+0.10171532j,  0.70578361+0.26191351j,\n",
       "        0.16648488+0.26346554j, -0.712458  +0.51879541j,\n",
       "        0.06597094-0.0335276j ,  0.13173842-0.22812248j,\n",
       "       -0.51434328+0.70782781j, -0.39341376+0.26524127j,\n",
       "       -0.37427801-0.46559304j, -0.75302236+0.45701819j,\n",
       "       -0.27734933+0.31024567j, -0.67050186-0.19633187j,\n",
       "        0.03249742-0.02138j   , -0.09070561+0.65468339j,\n",
       "       -0.35759205+0.39477519j, -0.21761098-0.11440579j,\n",
       "       -0.43436146-0.45670763j,  0.34994533-0.52054355j,\n",
       "       -0.80135706+0.32524803j, -0.74421889+0.00674376j,\n",
       "       -0.14810718-0.47578297j, -0.56574928-0.06050462j,\n",
       "       -0.24336531-0.45575621j,  0.20081962-0.59105204j,\n",
       "       -0.28982127-0.58339494j, -0.33587724-0.71568322j,\n",
       "        0.38839565-0.33933498j])"
      ]
     },
     "execution_count": 14,
     "metadata": {},
     "output_type": "execute_result"
    }
   ],
   "source": [
    "np.flip(exact) - lanczos"
   ]
  },
  {
   "cell_type": "code",
   "execution_count": 15,
   "metadata": {},
   "outputs": [],
   "source": [
    "# rotating the drift Hamiltonian involves the dense representation\n",
    "# Hd.matmat(R)"
   ]
  },
  {
   "cell_type": "markdown",
   "metadata": {},
   "source": [
    "Possibly 2 limitations:\n",
    "\n",
    "1. High density of the sparse drift Hamiltonian after rotation.\n",
    "2. Is it possible to rotate the drift Hamiltonian in the control-diagonal basis with the representation as linear operator?"
   ]
  }
 ],
 "metadata": {
  "interpreter": {
   "hash": "61b9a5676989277661b0e78fa5052b45f3eb3db0b4ce801c455414acb3ffb55e"
  },
  "kernelspec": {
   "display_name": "Python 3.9.12 ('pgi8')",
   "language": "python",
   "name": "python3"
  },
  "language_info": {
   "codemirror_mode": {
    "name": "ipython",
    "version": 3
   },
   "file_extension": ".py",
   "mimetype": "text/x-python",
   "name": "python",
   "nbconvert_exporter": "python",
   "pygments_lexer": "ipython3",
   "version": "3.9.12"
  },
  "orig_nbformat": 4
 },
 "nbformat": 4,
 "nbformat_minor": 2
}
