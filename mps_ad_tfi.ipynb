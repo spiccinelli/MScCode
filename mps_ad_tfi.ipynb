{
 "cells": [
  {
   "cell_type": "code",
   "execution_count": 1,
   "id": "5f01b4c9-977f-4d21-9b6a-848ca8aea26d",
   "metadata": {},
   "outputs": [],
   "source": [
    "using ITensors\n",
    "using LaTeXStrings\n",
    "using Plots\n",
    "using Zygote\n",
    "using Zygote: @ignore, @adjoint, pullback\n",
    "using LinearAlgebra"
   ]
  },
  {
   "cell_type": "code",
   "execution_count": 2,
   "id": "ba400a2a-c13f-4f89-ac6c-4f7c457cb57c",
   "metadata": {},
   "outputs": [
    {
     "data": {
      "text/plain": [
       "BdGHam (generic function with 1 method)"
      ]
     },
     "execution_count": 2,
     "metadata": {},
     "output_type": "execute_result"
    }
   ],
   "source": [
    "function Tmat(J::ElTJ,g::ElTG, N::Int64) where{ElTJ <: Real, ElTG <: Real}\n",
    "    elt = promote_type(ElTJ,ElTG)\n",
    "    T = SymTridiagonal(fill!(Array{elt}(undef, N), -2*g), fill!(Array{elt}(undef, N-1), -J))\n",
    "    return T\n",
    "end\n",
    "function Dmat(J::ElTJ,N::Int64) where{ ElTJ <: Real}\n",
    "    off_diag = fill!(Array{ElTJ}(undef, N-1), J)\n",
    "    D = Tridiagonal(off_diag,zeros(ElTJ, N), -1 .* off_diag)\n",
    "    return D\n",
    "end\n",
    "function BdGHam(J,g,N::Int64)\n",
    "    H = zeros(2*N,2*N)\n",
    "    \n",
    "    T = Tmat(J,g,N)\n",
    "    D = Dmat(J,N)\n",
    "    \n",
    "    H[1:N,1:N] = T\n",
    "    H[N+1:end,N+1:end] = -T\n",
    "    H[1:N,N+1:end] = D\n",
    "    H[N+1:end,1:N] = -D\n",
    "    return H\n",
    "end"
   ]
  },
  {
   "cell_type": "code",
   "execution_count": 3,
   "id": "e7413cf9-93c6-4d05-b3e4-8420ce9e73a4",
   "metadata": {},
   "outputs": [],
   "source": [
    "struct MPS_comp{A <: MPS, L<:Real}\n",
    "    ψ::A\n",
    "    λ::L\n",
    "    function MPS_comp(ψ::A; λ::L=0.0) where{A <: MPS, L <: Real}\n",
    "        return new{A,L}(ψ, λ)\n",
    "    end\n",
    "    function MPS_comp(ψ::A, λ::L) where{A <: MPS, L <: Real}\n",
    "        return new{A,L}(ψ, λ)\n",
    "    end\n",
    "end\n",
    "\n",
    "import Base: +, -, *\n",
    "+(this::MPS_comp, other::MPS_comp) = MPS_comp(psi(this) + psi(other), lambda(this) + lambda(other))\n",
    "-(this::MPS_comp) = MPS_comp(-psi(this), -lambda(this))\n",
    "-(this::MPS_comp, other::MPS_comp) = MPS_comp(psi(this) - psi(other), lambda(this)-lambda(other))\n",
    "*(scalar, this::MPS_comp) = MPS_comp(scalar*psi(this), scalar*lambda(this))\n",
    "*(this::MPS_comp, scalar) = scalar*this\n",
    "\n",
    "psi(obj::MPS_comp) = obj.ψ\n",
    "lambda(obj::MPS_comp) = obj.λ\n",
    "vectorize(obj::MPS_comp) = [obj.ψ, obj.λ]\n",
    "\n",
    "function Base.copy(obj::MPS_comp)\n",
    "    ψc = copy(psi(obj))\n",
    "    λc = copy(lambda(obj))\n",
    "    return MPS_comp(ψc, λc)\n",
    "end\n",
    "\n",
    "import LinearAlgebra: norm\n",
    "#norm2(obj::MPS_comp, p::Real = 2) = sqrt(norm(psi(obj), p)^2 + lambda(obj)^2)\n",
    "\n",
    "function norm(obj::MPS_comp, p::Real=2)\n",
    "    if p == Inf\n",
    "        n_psi = norm(psi(obj), Inf)\n",
    "        n_lambda = abs(lambda(obj))\n",
    "        return n_psi > n_lambda ? n_psi : n_lambda\n",
    "    elseif p == 0\n",
    "        n_psi = norm(psi(obj), 0)\n",
    "        n_lambda = isapprox(lambda(obj), 0) ? 0 : 1\n",
    "        return n_psi + n_lambda\n",
    "    elseif p == -Inf\n",
    "        n_psi = norm(psi(obj), -Inf)\n",
    "        n_lambda = abs(lambda(obj))\n",
    "        return n_psi > n_lambda ? n_lambda : n_psi\n",
    "    else\n",
    "        (norm(psi(obj), p)^p + lambda(obj)^p)^(1/p)\n",
    "    end\n",
    "end\n",
    "\n",
    "import ITensors: inner, normalize\n",
    "\n",
    "inner(this::MPS_comp, other::MPS_comp) = inner(psi(this), psi(other)) + lambda(this)*lambda(other)\n",
    "squared_norm(obj::Union{MPS_comp, MPS}) = inner(obj,obj)\n",
    "\n",
    "\n",
    "\n",
    "normalize(obj::MPS_comp) = MPS_comp(normalize(psi(obj)), lambda(obj))\n",
    "\n",
    "########## Adjoints ##################\n",
    "@adjoint psi(obj::MPS_comp)    = obj.ψ, ψ̄ -> (MPS_comp(ψ̄, 0.0),)\n",
    "@adjoint function lambda(obj::MPS_comp) \n",
    "    new_ten = similar(psi(obj))\n",
    "\n",
    "    for (jj, T) in enumerate(psi(obj))\n",
    "        new_ten[jj] = fill!(similar(T), 0)\n",
    "    end\n",
    "    \n",
    "    return obj.λ, λ̄ -> (MPS_comp(new_ten, λ̄),)\n",
    "end\n",
    "\n",
    "\n",
    "@adjoint function MPS_comp(ψ::A, λ::L) where{A <: MPS, L <: Real}\n",
    "    return MPS_comp(ψ, λ), p̄ -> (p̄.ψ, p̄.λ)\n",
    "end\n",
    "\n",
    "Zygote.refresh()\n"
   ]
  },
  {
   "cell_type": "code",
   "execution_count": 4,
   "id": "865e1d0f-60d2-455f-851a-f0ee9616b237",
   "metadata": {},
   "outputs": [],
   "source": [
    "#=\n",
    "let\n",
    "    s = siteinds(\"S=1/2\",10)\n",
    "    psi0 = randomMPS(s)\n",
    "    λ0 = 1.0\n",
    "    ψc = MPS_comp(psi0, λ0)\n",
    "    \n",
    "    ham_ising = ham(0.6,1, s);\n",
    "\n",
    "    f = x -> en_func(x, ham_ising)\n",
    "    ∇f= x -> gradient(f, x)[1]\n",
    "\n",
    "    grad1 = ∇f(ψc)\n",
    "    norm(grad1, Inf) |> display\n",
    "    norm(psi(grad1), Inf) |> display\n",
    "    x_n_p = ψc - grad1\n",
    "    x_n   = copy(ψc)  \n",
    "    \n",
    "    ψ_n = psi(x_n)\n",
    "    ψ_n_p = psi(x_n_p)\n",
    "    λ_n = lambda(x_n)\n",
    "    λ_n_p = lambda(x_n_p)\n",
    "    \n",
    "    \n",
    "    abs(inner(ψ_n - ψ_n_p, psi(grad1)) + (λ_n - λ_n_p)*(lambda(grad1))) |> display\n",
    "    abs(inner(x_n - x_n_p, grad1))\n",
    "    \n",
    "    b = false\n",
    "    a = begin b = true; 3 end\n",
    "    println(b)\n",
    "    println(a)\n",
    "    \n",
    "    5.0 * grad1\n",
    "    normalize(ψc)\n",
    "end\n",
    "=#"
   ]
  },
  {
   "cell_type": "code",
   "execution_count": 5,
   "id": "45445acf-014b-46b8-9ecd-3605e8f964bd",
   "metadata": {},
   "outputs": [
    {
     "data": {
      "text/plain": [
       "GD_solver (generic function with 1 method)"
      ]
     },
     "execution_count": 5,
     "metadata": {},
     "output_type": "execute_result"
    }
   ],
   "source": [
    "struct GD_problem{A <: Union{MPS_comp, MPS}, R <: Real}\n",
    "    \n",
    "    # problem structure, contains information regarding the problem\n",
    "    \n",
    "    f # the objective function\n",
    "    ∇f # objective gradient\n",
    "    x0::A # the intial condition\n",
    "    γ::R # the stepsize\n",
    "    \n",
    "end\n",
    "\n",
    "struct GD_setting\n",
    "    \n",
    "    # user settings to solve the problem using Gradient Descent\n",
    "    \n",
    "    γ::Float64 # the step size\n",
    "    maxit::Int64 # maximum number of iteration\n",
    "    tol::Float64 # tolerance, i.e., if ||∇f(x)|| ≤ tol, we take x to be an optimal solution\n",
    "    verbose::Bool # whether to print information about the iterates\n",
    "    freq::Int64 # how often print information about the iterates\n",
    "\n",
    "    # constructor for the structure, so if user does not specify any particular values, \n",
    "    # then we create a GD_setting object with default values\n",
    "    function GD_setting(; γ = 1, maxit = 1000, tol = 1e-8, verbose = false, freq = 10)\n",
    "        new(γ, maxit, tol, verbose, freq)\n",
    "    end\n",
    "    \n",
    "end\n",
    "\n",
    "mutable struct GD_state{T <: Union{MPS_comp, MPS}, I <: Integer, R <: Real} # contains information regarding one iterattion sequence\n",
    "    \n",
    "    x::T    # iterate x_n\n",
    "    ∇f_x::T # one gradient ∇f(x_n)\n",
    "    γ::R # stepsize\n",
    "    n::I # iteration counter\n",
    "    finish::Bool\n",
    "    \n",
    "end\n",
    "\n",
    "function GD_state(problem::GD_problem)\n",
    "    \n",
    "    # a constructor for the struct GD_state, it will take the problem data and create one state containing all \n",
    "    # the iterate information, current state of the gradient etc so that we can start our gradient descent scheme\n",
    "    \n",
    "    # unpack information from iter which is GD_iterable type\n",
    "    x0 = copy(problem.x0) # to be safe\n",
    "    f = problem.f\n",
    "    γ = problem.γ\n",
    "    ∇f_x = ∇f(x0)\n",
    "    n = 1\n",
    "    finish = false\n",
    "    \n",
    "    return GD_state(x0, ∇f_x, γ, n, finish)\n",
    "    \n",
    "end\n",
    "\n",
    "function GD_iteration!(problem::GD_problem, state::GD_state; tol = eps())\n",
    "    \n",
    "    # this is the main iteration function, that takes the problem information, and the previous state, \n",
    "    # and create the new state using Gradient Descent algorithm\n",
    "    \n",
    "    # unpack the current state information\n",
    "    #ψ_n = psi(state.x)\n",
    "    #λ_n = lambda(state.x)\n",
    "    x_n = state.x\n",
    "    ∇f_x_n = state.∇f_x\n",
    "    \n",
    "    γ_n = state.γ\n",
    "    n = state.n\n",
    "    \n",
    "    # compute the next state\n",
    "    #ψ_n_p = ψ_n - γ_n*∇f_x_n[1]\n",
    "    #λ_n_p = λ_n - γ_n*∇f_x_n[2]\n",
    "    #x_n_p = MPS_comp(ψ_n, λ_n)\n",
    "    x_n_p = x_n - γ_n*∇f_x_n\n",
    "    \n",
    "    # now load the computed values in the state\n",
    "    state.x = normalize(x_n_p)\n",
    "    #state.∇f_x = problem.∇f([ψ_n_p, λ_n_p])\n",
    "    state.∇f_x = problem.∇f(x_n_p)\n",
    "    #f_x = problem.f([ψ_n_plus_1, λ_n_plus_1]) # note that f_x is not used anywhere\n",
    "    \n",
    "    \n",
    "    tmp = ∇f_x_n - state.∇f_x\n",
    "    tmpnormsq = squared_norm(tmp)\n",
    "    state.γ = sqrt(tmpnormsq) > tol ? abs(inner(x_n - x_n_p, tmp))/tmpnormsq : \n",
    "                begin state.finish = true; 0.0 end\n",
    "    \n",
    "        \n",
    "    #=\n",
    "    state.γ = tmpnorm > tol ? abs(inner(ψ_n - ψ_n_p, tmp[1]) \n",
    "                                   + (λ_n - λ_n_p)*(tmp[2]))/\n",
    "                                (inner(tmp[1],tmp[1]) + tmp[2]^2) : \n",
    "                state.finish = true\n",
    "    =#\n",
    "    \n",
    "    #state.γ = 1/(n+1)\n",
    "    state.n = n+1\n",
    "    \n",
    "    # done computing return the new state\n",
    "    return state\n",
    "    \n",
    "end\n",
    "\n",
    "function GD_solver(problem::GD_problem, setting::GD_setting)\n",
    "    \n",
    "    # this is the function that the end user will use to solve a particular problem, internally it is using the previously defined types and functions to run Gradient Descent Scheme\n",
    "    # create the intial state\n",
    "    state = GD_state(problem)\n",
    "    \n",
    "    ## time to run the loop\n",
    "    while  (!state.finish && state.n < setting.maxit) && (norm(state.∇f_x, Inf) > setting.tol)\n",
    "        # compute a new state\n",
    "        state =  GD_iteration!(problem, state, tol = settings.tol)\n",
    "        # print information if verbose = true\n",
    "        if setting.verbose == true\n",
    "            if mod(state.n, setting.freq) == 0\n",
    "                #@info \"iteration = $(state.n) | obj val = $(problem.f([state.x, state.λ])) | gradient norm = $(norm(state.∇f_x, Inf))\"\n",
    "                @info \"iteration = $(state.n) | obj val = $(problem.f(state.x)) | gradient norm = $(norm(state.∇f_x, Inf))\"\n",
    "            end\n",
    "        end\n",
    "    end\n",
    "    \n",
    "    # print information regarding the final state\n",
    "    \n",
    "    #@info \"final iteration = $(state.n) | final obj val = $(problem.f([state.x, state.λ])) | final gradient norm = $(norm(state.∇f_x, Inf))\"\n",
    "    @info \"final iteration = $(state.n) | final obj val = $(problem.f(state.x)) | final gradient norm = $(norm(state.∇f_x, Inf))\"\n",
    "    return state\n",
    "    \n",
    "end"
   ]
  },
  {
   "cell_type": "code",
   "execution_count": 6,
   "id": "d47027f3-5f8d-45ea-a1f2-2f1d161aca7d",
   "metadata": {},
   "outputs": [
    {
     "data": {
      "text/plain": [
       "ham (generic function with 1 method)"
      ]
     },
     "execution_count": 6,
     "metadata": {},
     "output_type": "execute_result"
    }
   ],
   "source": [
    "function ham(J, g, sites)\n",
    "    ampo = OpSum()\n",
    "    N = length(sites)\n",
    "    for j=1:N-1\n",
    "      ampo += J*4,\"Sx\",j,\"Sx\",j+1\n",
    "      ampo += g*2, \"Sz\",j\n",
    "    end\n",
    "    ampo += g*2, \"Sz\",N\n",
    "    H = MPO(ampo,sites)\n",
    "end"
   ]
  },
  {
   "cell_type": "code",
   "execution_count": 7,
   "id": "b93ecd93-2c08-486f-8c62-7af98b51538c",
   "metadata": {},
   "outputs": [
    {
     "data": {
      "text/plain": [
       "en_func (generic function with 2 methods)"
      ]
     },
     "execution_count": 7,
     "metadata": {},
     "output_type": "execute_result"
    }
   ],
   "source": [
    "function en_func(psi, ham; psi_opt::Union{Nothing, Vector{MPS}} = nothing, w = 100)\n",
    "    psic = nothing\n",
    "    @ignore psic = copy(psi)\n",
    "    nrmsq = inner(psi, psic)\n",
    "    # @show nrmsq\n",
    "    overlap = inner(psi', ham, psic)\n",
    "    isnothing(psi_opt) || (overlap += w*sum(map(x -> abs(inner(psi, x)), psi_opt)))\n",
    "    return overlap/nrmsq\n",
    "end\n",
    "\n",
    "function en_func(ψc::MPS_comp, ham; psi_opt::Union{Nothing, Vector{MPS}} = nothing, w = 100)\n",
    "    psicop = nothing\n",
    "    @ignore psicop = copy(ψc)\n",
    "    nrmsq = inner(psi(ψc), psi(psicop))\n",
    "    overlap = inner(psi(ψc)', ham, psi(psicop)) - lambda(ψc)*(nrmsq - 1)\n",
    "    return overlap\n",
    "end"
   ]
  },
  {
   "cell_type": "code",
   "execution_count": 8,
   "id": "4bb02f56-4032-4739-9035-d70e71190786",
   "metadata": {
    "tags": []
   },
   "outputs": [
    {
     "name": "stderr",
     "output_type": "stream",
     "text": [
      "\u001b[36m\u001b[1m[ \u001b[22m\u001b[39m\u001b[36m\u001b[1mInfo: \u001b[22m\u001b[39mfinal iteration = 36 | final obj val = -8.999999999999893 | final gradient norm = 1.7320508075688776\n"
     ]
    },
    {
     "data": {
      "text/plain": [
       "0.3780436983575208"
      ]
     },
     "metadata": {},
     "output_type": "display_data"
    },
    {
     "data": {
      "text/plain": [
       "-0.8999999999999894"
      ]
     },
     "metadata": {},
     "output_type": "display_data"
    }
   ],
   "source": [
    "n = 10\n",
    "J = 1\n",
    "g = 0\n",
    "s = siteinds(\"S=1/2\",n)\n",
    "ψ0 = normalize(randomMPS(s))\n",
    "#λ0 = 1.0\n",
    "#ψ0c = MPS_comp(ψ0, λ0)\n",
    "\n",
    "\n",
    "ham_ising = ham(J,g, s);\n",
    "γ = 1.0\n",
    "\n",
    "f = x -> en_func(x, ham_ising)\n",
    "#f = x -> en_func(x[1], x[2], ham_ising)\n",
    "∇f= x -> gradient(f, x)[1]\n",
    "#∇∇f = x -> gradient((squared_norm ∘ ∇f), x)[1]\n",
    "\n",
    "problem = GD_problem(f, ∇f, ψ0, γ)\n",
    "settings = GD_setting(maxit = 5000)\n",
    "\n",
    "\n",
    "state_f = GD_solver(problem, settings)\n",
    "#psi_f = psi(final_state_GD.x)\n",
    "#λ_f = lambda(final_state_GD.x)\n",
    "\n",
    "\n",
    "ψgs = state_f.x;\n",
    "en_func(ψ0, ham_ising)/n |> display\n",
    "en_func(ψgs, ham_ising)/n |> display\n",
    "ψstates = [ψgs];"
   ]
  },
  {
   "cell_type": "code",
   "execution_count": 9,
   "id": "affe3757-c02e-4990-8d5d-c4b51cb022cc",
   "metadata": {},
   "outputs": [],
   "source": [
    "#=\n",
    "norm(ψ_f)^2 - 1 |> display\n",
    "#λ_f |> display\n",
    "inner(ψ_f', ham_ising, ψ_f) |> display\n",
    "println(final_state_GD.∇f_x[2])\n",
    "println(ψ_f[2])\n",
    "println(norm(ψ_f - ψ_f))\n",
    "=#"
   ]
  },
  {
   "cell_type": "code",
   "execution_count": 10,
   "id": "5529ad2e-7a0a-4c3b-aea9-d1da3b6a24e2",
   "metadata": {},
   "outputs": [
    {
     "name": "stdout",
     "output_type": "stream",
     "text": [
      "Final Energy: -8.999972110287235\n"
     ]
    },
    {
     "name": "stderr",
     "output_type": "stream",
     "text": [
      "\u001b[36m\u001b[1m[ \u001b[22m\u001b[39m\u001b[36m\u001b[1mInfo: \u001b[22m\u001b[39mfinal iteration = 1000 | final obj val = 28.47814397635506 | final gradient norm = 74.31138941191999\n"
     ]
    },
    {
     "name": "stdout",
     "output_type": "stream",
     "text": [
      "Final Energy: -7.031679048898622\n"
     ]
    },
    {
     "name": "stderr",
     "output_type": "stream",
     "text": [
      "\u001b[36m\u001b[1m[ \u001b[22m\u001b[39m\u001b[36m\u001b[1mInfo: \u001b[22m\u001b[39mfinal iteration = 1000 | final obj val = 7.090770665735996 | final gradient norm = 105.37529523380853\n"
     ]
    },
    {
     "name": "stdout",
     "output_type": "stream",
     "text": [
      "Final Energy: -7.019522874330857\n"
     ]
    },
    {
     "name": "stderr",
     "output_type": "stream",
     "text": [
      "\u001b[36m\u001b[1m[ \u001b[22m\u001b[39m\u001b[36m\u001b[1mInfo: \u001b[22m\u001b[39mfinal iteration = 1000 | final obj val = 13.405115650044822 | final gradient norm = 150.14612376385503\n"
     ]
    },
    {
     "name": "stdout",
     "output_type": "stream",
     "text": [
      "Final Energy: -6.7477149877547795\n"
     ]
    },
    {
     "name": "stderr",
     "output_type": "stream",
     "text": [
      "\u001b[36m\u001b[1m[ \u001b[22m\u001b[39m\u001b[36m\u001b[1mInfo: \u001b[22m\u001b[39mfinal iteration = 1000 | final obj val = -6.406334829065053 | final gradient norm = 222.9061363770857\n"
     ]
    }
   ],
   "source": [
    "n_ex = 4\n",
    "ψstates = #Vector{MPS}(undef, n_ex)\n",
    "ψstates = [ψgs]\n",
    "for n in 1:n_ex\n",
    "    ψ0 = randomMPS(s)\n",
    "    γ = 1.0\n",
    "    f = x -> en_func(x, ham_ising, psi_opt = ψstates, w = 100)\n",
    "    ∇f= ψ -> gradient(f, ψ)[1]\n",
    "    \n",
    "    problem  = GD_problem(f, ∇f, ψ0, γ)\n",
    "    settings = GD_setting(maxit = 1000)\n",
    "\n",
    "    state_f = GD_solver(problem, settings)\n",
    "    ψ_f_ex  = state_f.x\n",
    "    println(\"Final Energy: $(en_func(ψ_f_ex, ham_ising))\")\n",
    "    push!(ψstates, ψ_f_ex)\n",
    "end"
   ]
  },
  {
   "cell_type": "code",
   "execution_count": 11,
   "id": "55f76149-9e58-4bae-bffc-866411f70764",
   "metadata": {},
   "outputs": [
    {
     "name": "stdout",
     "output_type": "stream",
     "text": [
      "Energy of ψ_1: -0.8999999999999894\n",
      "Norm between ψ_1 and all other states: [1.000000000000001, -0.37478116086642377, -0.07237279687439498, 0.06866753127119642, -0.0019165722627111199]\n",
      "Energy of ψ_2: -0.8999972110287235\n",
      "Norm between ψ_2 and all other states: [-0.3747811608664235, 1.0000000000000016, -0.06885170027195125, 0.04904566530311079, 0.0003484660010642426]\n",
      "Energy of ψ_3: -0.7031679048898621\n",
      "Norm between ψ_3 and all other states: [-0.07237279687439503, -0.06885170027195134, 1.0000000000000016, -0.08653318866944995, 0.0005728045876313972]\n",
      "Energy of ψ_4: -0.7019522874330857\n",
      "Norm between ψ_4 and all other states: [0.06866753127119632, 0.04904566530311078, -0.08653318866944981, 1.0000000000000007, -0.0005759587354903881]\n",
      "Energy of ψ_5: -0.6747714987754779\n",
      "Norm between ψ_5 and all other states: [-0.0019165722627111593, 0.00034846600106425206, 0.0005728045876314228, -0.0005759587354904178, 0.9999999999999986]\n"
     ]
    }
   ],
   "source": [
    "energies = map(x -> en_func(x, ham_ising)/n, ψstates) # normalized expectation values of the energies for site (n)\n",
    "for (jj,(ψ,E)) in enumerate(zip(ψstates, energies))\n",
    "    println(\"Energy of ψ_$jj: $(E)\")\n",
    "    nrms = map(x -> inner(ψ, x), ψstates)\n",
    "    println(\"Norm between ψ_$jj and all other states: $(nrms)\")\n",
    "end"
   ]
  },
  {
   "cell_type": "code",
   "execution_count": 12,
   "id": "6bdcd29f",
   "metadata": {},
   "outputs": [
    {
     "data": {
      "text/plain": [
       "4-element Vector{Float64}:\n",
       " -0.9\n",
       " -0.9\n",
       " -0.7000000000000002\n",
       " -0.7"
      ]
     },
     "execution_count": 12,
     "metadata": {},
     "output_type": "execute_result"
    }
   ],
   "source": [
    "vals = eigvals(BdGHam(J,g,n))\n",
    "\n",
    "E0 = 1/2*sum(vals[vals.<0])\n",
    "e0 = E0/10\n",
    "ex_en = vals[vals.>=0];\n",
    "ex_energies = similar(energies)\n",
    "ex_energies[1] = e0\n",
    "ex_energies[2:end] = (E0 .+ ex_en[1:n_ex]) ./ n"
   ]
  },
  {
   "cell_type": "code",
   "execution_count": 13,
   "id": "24ce331e-07aa-4cb1-a3d4-91861c517fa6",
   "metadata": {},
   "outputs": [
    {
     "data": {
      "image/svg+xml": "<?xml version=\"1.0\" encoding=\"utf-8\"?>\n<svg xmlns=\"http://www.w3.org/2000/svg\" xmlns:xlink=\"http://www.w3.org/1999/xlink\" width=\"800\" height=\"600\" viewBox=\"0 0 3200 2400\">\n<defs>\n  <clipPath id=\"clip560\">\n    <rect x=\"0\" y=\"0\" width=\"3200\" height=\"2400\"/>\n  </clipPath>\n</defs>\n<path clip-path=\"url(#clip560)\" d=\"M0 2400 L3200 2400 L3200 0 L0 0  Z\" fill=\"#ffffff\" fill-rule=\"evenodd\" fill-opacity=\"1\"/>\n<defs>\n  <clipPath id=\"clip561\">\n    <rect x=\"640\" y=\"0\" width=\"2241\" height=\"2241\"/>\n  </clipPath>\n</defs>\n<path clip-path=\"url(#clip560)\" d=\"M301.306 1004.92 L3152.76 1004.92 L3152.76 47.2441 L301.306 47.2441  Z\" fill=\"#ffffff\" fill-rule=\"evenodd\" fill-opacity=\"1\"/>\n<defs>\n  <clipPath id=\"clip562\">\n    <rect x=\"301\" y=\"47\" width=\"2852\" height=\"959\"/>\n  </clipPath>\n</defs>\n<polyline clip-path=\"url(#clip562)\" style=\"stroke:#000000; stroke-linecap:round; stroke-linejoin:round; stroke-width:2; stroke-opacity:0.1; fill:none\" points=\"382.007,1004.92 382.007,47.2441 \"/>\n<polyline clip-path=\"url(#clip562)\" style=\"stroke:#000000; stroke-linecap:round; stroke-linejoin:round; stroke-width:2; stroke-opacity:0.1; fill:none\" points=\"1054.52,1004.92 1054.52,47.2441 \"/>\n<polyline clip-path=\"url(#clip562)\" style=\"stroke:#000000; stroke-linecap:round; stroke-linejoin:round; stroke-width:2; stroke-opacity:0.1; fill:none\" points=\"1727.03,1004.92 1727.03,47.2441 \"/>\n<polyline clip-path=\"url(#clip562)\" style=\"stroke:#000000; stroke-linecap:round; stroke-linejoin:round; stroke-width:2; stroke-opacity:0.1; fill:none\" points=\"2399.54,1004.92 2399.54,47.2441 \"/>\n<polyline clip-path=\"url(#clip562)\" style=\"stroke:#000000; stroke-linecap:round; stroke-linejoin:round; stroke-width:2; stroke-opacity:0.1; fill:none\" points=\"3072.05,1004.92 3072.05,47.2441 \"/>\n<polyline clip-path=\"url(#clip560)\" style=\"stroke:#000000; stroke-linecap:round; stroke-linejoin:round; stroke-width:4; stroke-opacity:1; fill:none\" points=\"301.306,1004.92 3152.76,1004.92 \"/>\n<polyline clip-path=\"url(#clip560)\" style=\"stroke:#000000; stroke-linecap:round; stroke-linejoin:round; stroke-width:4; stroke-opacity:1; fill:none\" points=\"382.007,1004.92 382.007,986.022 \"/>\n<polyline clip-path=\"url(#clip560)\" style=\"stroke:#000000; stroke-linecap:round; stroke-linejoin:round; stroke-width:4; stroke-opacity:1; fill:none\" points=\"1054.52,1004.92 1054.52,986.022 \"/>\n<polyline clip-path=\"url(#clip560)\" style=\"stroke:#000000; stroke-linecap:round; stroke-linejoin:round; stroke-width:4; stroke-opacity:1; fill:none\" points=\"1727.03,1004.92 1727.03,986.022 \"/>\n<polyline clip-path=\"url(#clip560)\" style=\"stroke:#000000; stroke-linecap:round; stroke-linejoin:round; stroke-width:4; stroke-opacity:1; fill:none\" points=\"2399.54,1004.92 2399.54,986.022 \"/>\n<polyline clip-path=\"url(#clip560)\" style=\"stroke:#000000; stroke-linecap:round; stroke-linejoin:round; stroke-width:4; stroke-opacity:1; fill:none\" points=\"3072.05,1004.92 3072.05,986.022 \"/>\n<path clip-path=\"url(#clip560)\" d=\"M372.389 1069.78 L380.028 1069.78 L380.028 1043.42 L371.718 1045.09 L371.718 1040.83 L379.982 1039.16 L384.658 1039.16 L384.658 1069.78 L392.297 1069.78 L392.297 1073.72 L372.389 1073.72 L372.389 1069.78 Z\" fill=\"#000000\" fill-rule=\"evenodd\" fill-opacity=\"1\" /><path clip-path=\"url(#clip560)\" d=\"M1049.17 1069.78 L1065.49 1069.78 L1065.49 1073.72 L1043.55 1073.72 L1043.55 1069.78 Q1046.21 1067.03 1050.79 1062.4 Q1055.4 1057.75 1056.58 1056.41 Q1058.82 1053.88 1059.7 1052.15 Q1060.61 1050.39 1060.61 1048.7 Q1060.61 1045.94 1058.66 1044.21 Q1056.74 1042.47 1053.64 1042.47 Q1051.44 1042.47 1048.99 1043.23 Q1046.56 1044 1043.78 1045.55 L1043.78 1040.83 Q1046.6 1039.69 1049.06 1039.11 Q1051.51 1038.53 1053.55 1038.53 Q1058.92 1038.53 1062.11 1041.22 Q1065.31 1043.91 1065.31 1048.4 Q1065.31 1050.53 1064.5 1052.45 Q1063.71 1054.34 1061.6 1056.94 Q1061.02 1057.61 1057.92 1060.83 Q1054.82 1064.02 1049.17 1069.78 Z\" fill=\"#000000\" fill-rule=\"evenodd\" fill-opacity=\"1\" /><path clip-path=\"url(#clip560)\" d=\"M1731.28 1055.09 Q1734.64 1055.8 1736.51 1058.07 Q1738.41 1060.34 1738.41 1063.67 Q1738.41 1068.79 1734.89 1071.59 Q1731.37 1074.39 1724.89 1074.39 Q1722.71 1074.39 1720.4 1073.95 Q1718.11 1073.53 1715.65 1072.68 L1715.65 1068.16 Q1717.6 1069.3 1719.91 1069.88 Q1722.23 1070.46 1724.75 1070.46 Q1729.15 1070.46 1731.44 1068.72 Q1733.76 1066.98 1733.76 1063.67 Q1733.76 1060.62 1731.6 1058.91 Q1729.47 1057.17 1725.65 1057.17 L1721.63 1057.17 L1721.63 1053.33 L1725.84 1053.33 Q1729.29 1053.33 1731.12 1051.96 Q1732.95 1050.57 1732.95 1047.98 Q1732.95 1045.32 1731.05 1043.91 Q1729.17 1042.47 1725.65 1042.47 Q1723.73 1042.47 1721.53 1042.89 Q1719.33 1043.3 1716.7 1044.18 L1716.7 1040.02 Q1719.36 1039.28 1721.67 1038.91 Q1724.01 1038.53 1726.07 1038.53 Q1731.39 1038.53 1734.5 1040.97 Q1737.6 1043.37 1737.6 1047.49 Q1737.6 1050.36 1735.95 1052.35 Q1734.31 1054.32 1731.28 1055.09 Z\" fill=\"#000000\" fill-rule=\"evenodd\" fill-opacity=\"1\" /><path clip-path=\"url(#clip560)\" d=\"M2402.55 1043.23 L2390.75 1061.68 L2402.55 1061.68 L2402.55 1043.23 M2401.33 1039.16 L2407.2 1039.16 L2407.2 1061.68 L2412.14 1061.68 L2412.14 1065.57 L2407.2 1065.57 L2407.2 1073.72 L2402.55 1073.72 L2402.55 1065.57 L2386.95 1065.57 L2386.95 1061.06 L2401.33 1039.16 Z\" fill=\"#000000\" fill-rule=\"evenodd\" fill-opacity=\"1\" /><path clip-path=\"url(#clip560)\" d=\"M3062.33 1039.16 L3080.69 1039.16 L3080.69 1043.1 L3066.61 1043.1 L3066.61 1051.57 Q3067.63 1051.22 3068.65 1051.06 Q3069.67 1050.87 3070.69 1050.87 Q3076.48 1050.87 3079.86 1054.04 Q3083.23 1057.22 3083.23 1062.63 Q3083.23 1068.21 3079.76 1071.31 Q3076.29 1074.39 3069.97 1074.39 Q3067.8 1074.39 3065.53 1074.02 Q3063.28 1073.65 3060.87 1072.91 L3060.87 1068.21 Q3062.96 1069.34 3065.18 1069.9 Q3067.4 1070.46 3069.88 1070.46 Q3073.88 1070.46 3076.22 1068.35 Q3078.56 1066.24 3078.56 1062.63 Q3078.56 1059.02 3076.22 1056.91 Q3073.88 1054.81 3069.88 1054.81 Q3068 1054.81 3066.13 1055.22 Q3064.28 1055.64 3062.33 1056.52 L3062.33 1039.16 Z\" fill=\"#000000\" fill-rule=\"evenodd\" fill-opacity=\"1\" /><path clip-path=\"url(#clip560)\" d=\"M1741.96 1140.27 L1741.96 1161.78 L1736.1 1161.78 L1736.1 1140.46 Q1736.1 1135.4 1734.13 1132.88 Q1732.16 1130.37 1728.21 1130.37 Q1723.47 1130.37 1720.73 1133.39 Q1717.99 1136.42 1717.99 1141.64 L1717.99 1161.78 L1712.1 1161.78 L1712.1 1126.14 L1717.99 1126.14 L1717.99 1131.67 Q1720.09 1128.46 1722.93 1126.87 Q1725.79 1125.28 1729.51 1125.28 Q1735.66 1125.28 1738.81 1129.1 Q1741.96 1132.88 1741.96 1140.27 Z\" fill=\"#000000\" fill-rule=\"evenodd\" fill-opacity=\"1\" /><polyline clip-path=\"url(#clip562)\" style=\"stroke:#000000; stroke-linecap:round; stroke-linejoin:round; stroke-width:2; stroke-opacity:0.1; fill:none\" points=\"301.306,977.816 3152.76,977.816 \"/>\n<polyline clip-path=\"url(#clip562)\" style=\"stroke:#000000; stroke-linecap:round; stroke-linejoin:round; stroke-width:2; stroke-opacity:0.1; fill:none\" points=\"301.306,777.249 3152.76,777.249 \"/>\n<polyline clip-path=\"url(#clip562)\" style=\"stroke:#000000; stroke-linecap:round; stroke-linejoin:round; stroke-width:2; stroke-opacity:0.1; fill:none\" points=\"301.306,576.682 3152.76,576.682 \"/>\n<polyline clip-path=\"url(#clip562)\" style=\"stroke:#000000; stroke-linecap:round; stroke-linejoin:round; stroke-width:2; stroke-opacity:0.1; fill:none\" points=\"301.306,376.115 3152.76,376.115 \"/>\n<polyline clip-path=\"url(#clip562)\" style=\"stroke:#000000; stroke-linecap:round; stroke-linejoin:round; stroke-width:2; stroke-opacity:0.1; fill:none\" points=\"301.306,175.548 3152.76,175.548 \"/>\n<polyline clip-path=\"url(#clip560)\" style=\"stroke:#000000; stroke-linecap:round; stroke-linejoin:round; stroke-width:4; stroke-opacity:1; fill:none\" points=\"301.306,1004.92 301.306,47.2441 \"/>\n<polyline clip-path=\"url(#clip560)\" style=\"stroke:#000000; stroke-linecap:round; stroke-linejoin:round; stroke-width:4; stroke-opacity:1; fill:none\" points=\"301.306,977.816 320.204,977.816 \"/>\n<polyline clip-path=\"url(#clip560)\" style=\"stroke:#000000; stroke-linecap:round; stroke-linejoin:round; stroke-width:4; stroke-opacity:1; fill:none\" points=\"301.306,777.249 320.204,777.249 \"/>\n<polyline clip-path=\"url(#clip560)\" style=\"stroke:#000000; stroke-linecap:round; stroke-linejoin:round; stroke-width:4; stroke-opacity:1; fill:none\" points=\"301.306,576.682 320.204,576.682 \"/>\n<polyline clip-path=\"url(#clip560)\" style=\"stroke:#000000; stroke-linecap:round; stroke-linejoin:round; stroke-width:4; stroke-opacity:1; fill:none\" points=\"301.306,376.115 320.204,376.115 \"/>\n<polyline clip-path=\"url(#clip560)\" style=\"stroke:#000000; stroke-linecap:round; stroke-linejoin:round; stroke-width:4; stroke-opacity:1; fill:none\" points=\"301.306,175.548 320.204,175.548 \"/>\n<path clip-path=\"url(#clip560)\" d=\"M116.2 978.267 L145.876 978.267 L145.876 982.202 L116.2 982.202 L116.2 978.267 Z\" fill=\"#000000\" fill-rule=\"evenodd\" fill-opacity=\"1\" /><path clip-path=\"url(#clip560)\" d=\"M165.968 963.614 Q162.357 963.614 160.529 967.179 Q158.723 970.721 158.723 977.851 Q158.723 984.957 160.529 988.522 Q162.357 992.063 165.968 992.063 Q169.603 992.063 171.408 988.522 Q173.237 984.957 173.237 977.851 Q173.237 970.721 171.408 967.179 Q169.603 963.614 165.968 963.614 M165.968 959.911 Q171.779 959.911 174.834 964.517 Q177.913 969.101 177.913 977.851 Q177.913 986.577 174.834 991.184 Q171.779 995.767 165.968 995.767 Q160.158 995.767 157.08 991.184 Q154.024 986.577 154.024 977.851 Q154.024 969.101 157.08 964.517 Q160.158 959.911 165.968 959.911 Z\" fill=\"#000000\" fill-rule=\"evenodd\" fill-opacity=\"1\" /><path clip-path=\"url(#clip560)\" d=\"M186.13 989.216 L191.015 989.216 L191.015 995.096 L186.13 995.096 L186.13 989.216 Z\" fill=\"#000000\" fill-rule=\"evenodd\" fill-opacity=\"1\" /><path clip-path=\"url(#clip560)\" d=\"M201.339 994.378 L201.339 990.119 Q203.098 990.952 204.903 991.392 Q206.709 991.832 208.445 991.832 Q213.075 991.832 215.505 988.73 Q217.959 985.605 218.306 979.263 Q216.964 981.253 214.903 982.318 Q212.843 983.383 210.343 983.383 Q205.158 983.383 202.126 980.258 Q199.116 977.11 199.116 971.67 Q199.116 966.346 202.265 963.128 Q205.413 959.911 210.644 959.911 Q216.639 959.911 219.788 964.517 Q222.959 969.101 222.959 977.851 Q222.959 986.022 219.07 990.906 Q215.204 995.767 208.653 995.767 Q206.894 995.767 205.089 995.42 Q203.283 995.073 201.339 994.378 M210.644 979.726 Q213.792 979.726 215.621 977.573 Q217.473 975.42 217.473 971.67 Q217.473 967.943 215.621 965.79 Q213.792 963.614 210.644 963.614 Q207.496 963.614 205.644 965.79 Q203.815 967.943 203.815 971.67 Q203.815 975.42 205.644 977.573 Q207.496 979.726 210.644 979.726 Z\" fill=\"#000000\" fill-rule=\"evenodd\" fill-opacity=\"1\" /><path clip-path=\"url(#clip560)\" d=\"M241.362 963.614 Q237.75 963.614 235.922 967.179 Q234.116 970.721 234.116 977.851 Q234.116 984.957 235.922 988.522 Q237.75 992.063 241.362 992.063 Q244.996 992.063 246.801 988.522 Q248.63 984.957 248.63 977.851 Q248.63 970.721 246.801 967.179 Q244.996 963.614 241.362 963.614 M241.362 959.911 Q247.172 959.911 250.227 964.517 Q253.306 969.101 253.306 977.851 Q253.306 986.577 250.227 991.184 Q247.172 995.767 241.362 995.767 Q235.551 995.767 232.473 991.184 Q229.417 986.577 229.417 977.851 Q229.417 969.101 232.473 964.517 Q235.551 959.911 241.362 959.911 Z\" fill=\"#000000\" fill-rule=\"evenodd\" fill-opacity=\"1\" /><path clip-path=\"url(#clip560)\" d=\"M117.196 777.7 L146.871 777.7 L146.871 781.635 L117.196 781.635 L117.196 777.7 Z\" fill=\"#000000\" fill-rule=\"evenodd\" fill-opacity=\"1\" /><path clip-path=\"url(#clip560)\" d=\"M166.964 763.048 Q163.353 763.048 161.524 766.612 Q159.718 770.154 159.718 777.284 Q159.718 784.39 161.524 787.955 Q163.353 791.497 166.964 791.497 Q170.598 791.497 172.404 787.955 Q174.232 784.39 174.232 777.284 Q174.232 770.154 172.404 766.612 Q170.598 763.048 166.964 763.048 M166.964 759.344 Q172.774 759.344 175.829 763.95 Q178.908 768.534 178.908 777.284 Q178.908 786.01 175.829 790.617 Q172.774 795.2 166.964 795.2 Q161.154 795.2 158.075 790.617 Q155.019 786.01 155.019 777.284 Q155.019 768.534 158.075 763.95 Q161.154 759.344 166.964 759.344 Z\" fill=\"#000000\" fill-rule=\"evenodd\" fill-opacity=\"1\" /><path clip-path=\"url(#clip560)\" d=\"M187.126 788.649 L192.01 788.649 L192.01 794.529 L187.126 794.529 L187.126 788.649 Z\" fill=\"#000000\" fill-rule=\"evenodd\" fill-opacity=\"1\" /><path clip-path=\"url(#clip560)\" d=\"M212.195 778.117 Q208.862 778.117 206.94 779.899 Q205.042 781.682 205.042 784.807 Q205.042 787.932 206.94 789.714 Q208.862 791.497 212.195 791.497 Q215.528 791.497 217.45 789.714 Q219.371 787.909 219.371 784.807 Q219.371 781.682 217.45 779.899 Q215.551 778.117 212.195 778.117 M207.519 776.126 Q204.51 775.385 202.82 773.325 Q201.153 771.265 201.153 768.302 Q201.153 764.159 204.093 761.751 Q207.056 759.344 212.195 759.344 Q217.357 759.344 220.297 761.751 Q223.237 764.159 223.237 768.302 Q223.237 771.265 221.547 773.325 Q219.88 775.385 216.894 776.126 Q220.274 776.913 222.149 779.205 Q224.047 781.497 224.047 784.807 Q224.047 789.83 220.968 792.515 Q217.913 795.2 212.195 795.2 Q206.477 795.2 203.399 792.515 Q200.343 789.83 200.343 784.807 Q200.343 781.497 202.241 779.205 Q204.14 776.913 207.519 776.126 M205.806 768.742 Q205.806 771.427 207.473 772.932 Q209.163 774.436 212.195 774.436 Q215.204 774.436 216.894 772.932 Q218.607 771.427 218.607 768.742 Q218.607 766.057 216.894 764.552 Q215.204 763.048 212.195 763.048 Q209.163 763.048 207.473 764.552 Q205.806 766.057 205.806 768.742 Z\" fill=\"#000000\" fill-rule=\"evenodd\" fill-opacity=\"1\" /><path clip-path=\"url(#clip560)\" d=\"M232.403 759.969 L250.76 759.969 L250.76 763.904 L236.686 763.904 L236.686 772.376 Q237.704 772.029 238.723 771.867 Q239.741 771.682 240.76 771.682 Q246.547 771.682 249.926 774.853 Q253.306 778.024 253.306 783.441 Q253.306 789.02 249.834 792.122 Q246.361 795.2 240.042 795.2 Q237.866 795.2 235.598 794.83 Q233.352 794.459 230.945 793.719 L230.945 789.02 Q233.028 790.154 235.25 790.709 Q237.473 791.265 239.949 791.265 Q243.954 791.265 246.292 789.159 Q248.63 787.052 248.63 783.441 Q248.63 779.83 246.292 777.723 Q243.954 775.617 239.949 775.617 Q238.075 775.617 236.2 776.034 Q234.348 776.45 232.403 777.33 L232.403 759.969 Z\" fill=\"#000000\" fill-rule=\"evenodd\" fill-opacity=\"1\" /><path clip-path=\"url(#clip560)\" d=\"M116.2 577.133 L145.876 577.133 L145.876 581.069 L116.2 581.069 L116.2 577.133 Z\" fill=\"#000000\" fill-rule=\"evenodd\" fill-opacity=\"1\" /><path clip-path=\"url(#clip560)\" d=\"M165.968 562.481 Q162.357 562.481 160.529 566.045 Q158.723 569.587 158.723 576.717 Q158.723 583.823 160.529 587.388 Q162.357 590.93 165.968 590.93 Q169.603 590.93 171.408 587.388 Q173.237 583.823 173.237 576.717 Q173.237 569.587 171.408 566.045 Q169.603 562.481 165.968 562.481 M165.968 558.777 Q171.779 558.777 174.834 563.383 Q177.913 567.967 177.913 576.717 Q177.913 585.444 174.834 590.05 Q171.779 594.633 165.968 594.633 Q160.158 594.633 157.08 590.05 Q154.024 585.444 154.024 576.717 Q154.024 567.967 157.08 563.383 Q160.158 558.777 165.968 558.777 Z\" fill=\"#000000\" fill-rule=\"evenodd\" fill-opacity=\"1\" /><path clip-path=\"url(#clip560)\" d=\"M186.13 588.082 L191.015 588.082 L191.015 593.962 L186.13 593.962 L186.13 588.082 Z\" fill=\"#000000\" fill-rule=\"evenodd\" fill-opacity=\"1\" /><path clip-path=\"url(#clip560)\" d=\"M211.2 577.55 Q207.866 577.55 205.945 579.332 Q204.047 581.115 204.047 584.24 Q204.047 587.365 205.945 589.147 Q207.866 590.93 211.2 590.93 Q214.533 590.93 216.454 589.147 Q218.376 587.342 218.376 584.24 Q218.376 581.115 216.454 579.332 Q214.556 577.55 211.2 577.55 M206.524 575.559 Q203.515 574.819 201.825 572.758 Q200.158 570.698 200.158 567.735 Q200.158 563.592 203.098 561.184 Q206.061 558.777 211.2 558.777 Q216.362 558.777 219.301 561.184 Q222.241 563.592 222.241 567.735 Q222.241 570.698 220.551 572.758 Q218.885 574.819 215.899 575.559 Q219.278 576.346 221.153 578.638 Q223.051 580.93 223.051 584.24 Q223.051 589.263 219.973 591.948 Q216.917 594.633 211.2 594.633 Q205.482 594.633 202.403 591.948 Q199.348 589.263 199.348 584.24 Q199.348 580.93 201.246 578.638 Q203.144 576.346 206.524 575.559 M204.811 568.175 Q204.811 570.86 206.477 572.365 Q208.167 573.87 211.2 573.87 Q214.209 573.87 215.899 572.365 Q217.612 570.86 217.612 568.175 Q217.612 565.49 215.899 563.985 Q214.209 562.481 211.2 562.481 Q208.167 562.481 206.477 563.985 Q204.811 565.49 204.811 568.175 Z\" fill=\"#000000\" fill-rule=\"evenodd\" fill-opacity=\"1\" /><path clip-path=\"url(#clip560)\" d=\"M241.362 562.481 Q237.75 562.481 235.922 566.045 Q234.116 569.587 234.116 576.717 Q234.116 583.823 235.922 587.388 Q237.75 590.93 241.362 590.93 Q244.996 590.93 246.801 587.388 Q248.63 583.823 248.63 576.717 Q248.63 569.587 246.801 566.045 Q244.996 562.481 241.362 562.481 M241.362 558.777 Q247.172 558.777 250.227 563.383 Q253.306 567.967 253.306 576.717 Q253.306 585.444 250.227 590.05 Q247.172 594.633 241.362 594.633 Q235.551 594.633 232.473 590.05 Q229.417 585.444 229.417 576.717 Q229.417 567.967 232.473 563.383 Q235.551 558.777 241.362 558.777 Z\" fill=\"#000000\" fill-rule=\"evenodd\" fill-opacity=\"1\" /><path clip-path=\"url(#clip560)\" d=\"M117.196 376.566 L146.871 376.566 L146.871 380.502 L117.196 380.502 L117.196 376.566 Z\" fill=\"#000000\" fill-rule=\"evenodd\" fill-opacity=\"1\" /><path clip-path=\"url(#clip560)\" d=\"M166.964 361.914 Q163.353 361.914 161.524 365.479 Q159.718 369.02 159.718 376.15 Q159.718 383.256 161.524 386.821 Q163.353 390.363 166.964 390.363 Q170.598 390.363 172.404 386.821 Q174.232 383.256 174.232 376.15 Q174.232 369.02 172.404 365.479 Q170.598 361.914 166.964 361.914 M166.964 358.21 Q172.774 358.21 175.829 362.817 Q178.908 367.4 178.908 376.15 Q178.908 384.877 175.829 389.483 Q172.774 394.066 166.964 394.066 Q161.154 394.066 158.075 389.483 Q155.019 384.877 155.019 376.15 Q155.019 367.4 158.075 362.817 Q161.154 358.21 166.964 358.21 Z\" fill=\"#000000\" fill-rule=\"evenodd\" fill-opacity=\"1\" /><path clip-path=\"url(#clip560)\" d=\"M187.126 387.515 L192.01 387.515 L192.01 393.395 L187.126 393.395 L187.126 387.515 Z\" fill=\"#000000\" fill-rule=\"evenodd\" fill-opacity=\"1\" /><path clip-path=\"url(#clip560)\" d=\"M201.015 358.835 L223.237 358.835 L223.237 360.826 L210.69 393.395 L205.806 393.395 L217.612 362.77 L201.015 362.77 L201.015 358.835 Z\" fill=\"#000000\" fill-rule=\"evenodd\" fill-opacity=\"1\" /><path clip-path=\"url(#clip560)\" d=\"M232.403 358.835 L250.76 358.835 L250.76 362.77 L236.686 362.77 L236.686 371.242 Q237.704 370.895 238.723 370.733 Q239.741 370.548 240.76 370.548 Q246.547 370.548 249.926 373.719 Q253.306 376.891 253.306 382.307 Q253.306 387.886 249.834 390.988 Q246.361 394.066 240.042 394.066 Q237.866 394.066 235.598 393.696 Q233.352 393.326 230.945 392.585 L230.945 387.886 Q233.028 389.02 235.25 389.576 Q237.473 390.131 239.949 390.131 Q243.954 390.131 246.292 388.025 Q248.63 385.918 248.63 382.307 Q248.63 378.696 246.292 376.59 Q243.954 374.483 239.949 374.483 Q238.075 374.483 236.2 374.9 Q234.348 375.316 232.403 376.196 L232.403 358.835 Z\" fill=\"#000000\" fill-rule=\"evenodd\" fill-opacity=\"1\" /><path clip-path=\"url(#clip560)\" d=\"M116.2 176 L145.876 176 L145.876 179.935 L116.2 179.935 L116.2 176 Z\" fill=\"#000000\" fill-rule=\"evenodd\" fill-opacity=\"1\" /><path clip-path=\"url(#clip560)\" d=\"M165.968 161.347 Q162.357 161.347 160.529 164.912 Q158.723 168.453 158.723 175.583 Q158.723 182.689 160.529 186.254 Q162.357 189.796 165.968 189.796 Q169.603 189.796 171.408 186.254 Q173.237 182.689 173.237 175.583 Q173.237 168.453 171.408 164.912 Q169.603 161.347 165.968 161.347 M165.968 157.643 Q171.779 157.643 174.834 162.25 Q177.913 166.833 177.913 175.583 Q177.913 184.31 174.834 188.916 Q171.779 193.499 165.968 193.499 Q160.158 193.499 157.08 188.916 Q154.024 184.31 154.024 175.583 Q154.024 166.833 157.08 162.25 Q160.158 157.643 165.968 157.643 Z\" fill=\"#000000\" fill-rule=\"evenodd\" fill-opacity=\"1\" /><path clip-path=\"url(#clip560)\" d=\"M186.13 186.949 L191.015 186.949 L191.015 192.828 L186.13 192.828 L186.13 186.949 Z\" fill=\"#000000\" fill-rule=\"evenodd\" fill-opacity=\"1\" /><path clip-path=\"url(#clip560)\" d=\"M200.019 158.268 L222.241 158.268 L222.241 160.259 L209.695 192.828 L204.811 192.828 L216.616 162.203 L200.019 162.203 L200.019 158.268 Z\" fill=\"#000000\" fill-rule=\"evenodd\" fill-opacity=\"1\" /><path clip-path=\"url(#clip560)\" d=\"M241.362 161.347 Q237.75 161.347 235.922 164.912 Q234.116 168.453 234.116 175.583 Q234.116 182.689 235.922 186.254 Q237.75 189.796 241.362 189.796 Q244.996 189.796 246.801 186.254 Q248.63 182.689 248.63 175.583 Q248.63 168.453 246.801 164.912 Q244.996 161.347 241.362 161.347 M241.362 157.643 Q247.172 157.643 250.227 162.25 Q253.306 166.833 253.306 175.583 Q253.306 184.31 250.227 188.916 Q247.172 193.499 241.362 193.499 Q235.551 193.499 232.473 188.916 Q229.417 184.31 229.417 175.583 Q229.417 166.833 232.473 162.25 Q235.551 157.643 241.362 157.643 Z\" fill=\"#000000\" fill-rule=\"evenodd\" fill-opacity=\"1\" /><path clip-path=\"url(#clip560)\" d=\"M6.42416 572.44 L6.42416 542.394 L11.835 542.394 L11.835 566.011 L25.9032 566.011 L25.9032 543.381 L31.3141 543.381 L31.3141 566.011 L48.5333 566.011 L48.5333 541.821 L53.9442 541.821 L53.9442 572.44 L6.42416 572.44 Z\" fill=\"#000000\" fill-rule=\"evenodd\" fill-opacity=\"1\" /><path clip-path=\"url(#clip560)\" d=\"M6.42416 521.101 L6.42416 515.69 L59.9916 532.241 L59.9916 537.652 L6.42416 521.101 Z\" fill=\"#000000\" fill-rule=\"evenodd\" fill-opacity=\"1\" /><path clip-path=\"url(#clip560)\" d=\"M6.42416 509.292 L6.42416 502.863 L48.5333 502.863 L48.5333 479.724 L53.9442 479.724 L53.9442 509.292 L6.42416 509.292 Z\" fill=\"#000000\" fill-rule=\"evenodd\" fill-opacity=\"1\" /><circle clip-path=\"url(#clip562)\" cx=\"382.007\" cy=\"977.816\" r=\"14.4\" fill=\"#009af9\" fill-rule=\"evenodd\" fill-opacity=\"1\" stroke=\"#000000\" stroke-opacity=\"1\" stroke-width=\"4.8\"/>\n<circle clip-path=\"url(#clip562)\" cx=\"1054.52\" cy=\"977.805\" r=\"14.4\" fill=\"#009af9\" fill-rule=\"evenodd\" fill-opacity=\"1\" stroke=\"#000000\" stroke-opacity=\"1\" stroke-width=\"4.8\"/>\n<circle clip-path=\"url(#clip562)\" cx=\"1727.03\" cy=\"188.256\" r=\"14.4\" fill=\"#009af9\" fill-rule=\"evenodd\" fill-opacity=\"1\" stroke=\"#000000\" stroke-opacity=\"1\" stroke-width=\"4.8\"/>\n<circle clip-path=\"url(#clip562)\" cx=\"2399.54\" cy=\"183.379\" r=\"14.4\" fill=\"#009af9\" fill-rule=\"evenodd\" fill-opacity=\"1\" stroke=\"#000000\" stroke-opacity=\"1\" stroke-width=\"4.8\"/>\n<circle clip-path=\"url(#clip562)\" cx=\"3072.05\" cy=\"74.3481\" r=\"14.4\" fill=\"#009af9\" fill-rule=\"evenodd\" fill-opacity=\"1\" stroke=\"#000000\" stroke-opacity=\"1\" stroke-width=\"4.8\"/>\n<circle clip-path=\"url(#clip562)\" cx=\"382.007\" cy=\"977.816\" r=\"14.4\" fill=\"#e26f46\" fill-rule=\"evenodd\" fill-opacity=\"1\" stroke=\"#000000\" stroke-opacity=\"1\" stroke-width=\"4.8\"/>\n<circle clip-path=\"url(#clip562)\" cx=\"1054.52\" cy=\"977.816\" r=\"14.4\" fill=\"#e26f46\" fill-rule=\"evenodd\" fill-opacity=\"1\" stroke=\"#000000\" stroke-opacity=\"1\" stroke-width=\"4.8\"/>\n<circle clip-path=\"url(#clip562)\" cx=\"1727.03\" cy=\"977.816\" r=\"14.4\" fill=\"#e26f46\" fill-rule=\"evenodd\" fill-opacity=\"1\" stroke=\"#000000\" stroke-opacity=\"1\" stroke-width=\"4.8\"/>\n<circle clip-path=\"url(#clip562)\" cx=\"2399.54\" cy=\"175.548\" r=\"14.4\" fill=\"#e26f46\" fill-rule=\"evenodd\" fill-opacity=\"1\" stroke=\"#000000\" stroke-opacity=\"1\" stroke-width=\"4.8\"/>\n<circle clip-path=\"url(#clip562)\" cx=\"3072.05\" cy=\"175.548\" r=\"14.4\" fill=\"#e26f46\" fill-rule=\"evenodd\" fill-opacity=\"1\" stroke=\"#000000\" stroke-opacity=\"1\" stroke-width=\"4.8\"/>\n<path clip-path=\"url(#clip560)\" d=\"M396.354 234.687 L847.008 234.687 L847.008 79.1666 L396.354 79.1666  Z\" fill=\"#ffffff\" fill-rule=\"evenodd\" fill-opacity=\"1\"/>\n<polyline clip-path=\"url(#clip560)\" style=\"stroke:#000000; stroke-linecap:round; stroke-linejoin:round; stroke-width:4; stroke-opacity:1; fill:none\" points=\"396.354,234.687 847.008,234.687 847.008,79.1666 396.354,79.1666 396.354,234.687 \"/>\n<circle clip-path=\"url(#clip560)\" cx=\"523.085\" cy=\"131.007\" r=\"23.04\" fill=\"#009af9\" fill-rule=\"evenodd\" fill-opacity=\"1\" stroke=\"#000000\" stroke-opacity=\"1\" stroke-width=\"7.68\"/>\n<path clip-path=\"url(#clip560)\" d=\"M665.65 118.333 L659.307 135.532 L672.015 135.532 L665.65 118.333 M663.011 113.727 L668.312 113.727 L681.483 148.287 L676.622 148.287 L673.474 139.421 L657.895 139.421 L654.747 148.287 L649.816 148.287 L663.011 113.727 Z\" fill=\"#000000\" fill-rule=\"evenodd\" fill-opacity=\"1\" /><path clip-path=\"url(#clip560)\" d=\"M691.205 117.569 L691.205 144.444 L696.853 144.444 Q704.006 144.444 707.316 141.203 Q710.649 137.963 710.649 130.972 Q710.649 124.027 707.316 120.81 Q704.006 117.569 696.853 117.569 L691.205 117.569 M686.529 113.727 L696.136 113.727 Q706.182 113.727 710.881 117.916 Q715.58 122.083 715.58 130.972 Q715.58 139.907 710.858 144.097 Q706.136 148.287 696.136 148.287 L686.529 148.287 L686.529 113.727 Z\" fill=\"#000000\" fill-rule=\"evenodd\" fill-opacity=\"1\" /><path clip-path=\"url(#clip560)\" d=\"M723.034 113.727 L730.001 113.727 L738.821 137.245 L747.686 113.727 L754.654 113.727 L754.654 148.287 L750.094 148.287 L750.094 117.94 L741.182 141.643 L736.483 141.643 L727.571 117.94 L727.571 148.287 L723.034 148.287 L723.034 113.727 Z\" fill=\"#000000\" fill-rule=\"evenodd\" fill-opacity=\"1\" /><path clip-path=\"url(#clip560)\" d=\"M768.612 117.569 L768.612 130.555 L774.492 130.555 Q777.756 130.555 779.538 128.865 Q781.32 127.176 781.32 124.051 Q781.32 120.949 779.538 119.259 Q777.756 117.569 774.492 117.569 L768.612 117.569 M763.936 113.727 L774.492 113.727 Q780.302 113.727 783.265 116.365 Q786.251 118.981 786.251 124.051 Q786.251 129.166 783.265 131.782 Q780.302 134.398 774.492 134.398 L768.612 134.398 L768.612 148.287 L763.936 148.287 L763.936 113.727 Z\" fill=\"#000000\" fill-rule=\"evenodd\" fill-opacity=\"1\" /><path clip-path=\"url(#clip560)\" d=\"M813.242 114.861 L813.242 119.421 Q810.579 118.148 808.218 117.523 Q805.857 116.898 803.658 116.898 Q799.839 116.898 797.755 118.379 Q795.695 119.861 795.695 122.592 Q795.695 124.884 797.061 126.065 Q798.45 127.222 802.292 127.94 L805.117 128.518 Q810.348 129.514 812.825 132.037 Q815.325 134.537 815.325 138.75 Q815.325 143.773 811.945 146.365 Q808.589 148.958 802.084 148.958 Q799.63 148.958 796.853 148.402 Q794.098 147.847 791.135 146.759 L791.135 141.944 Q793.982 143.541 796.714 144.351 Q799.445 145.162 802.084 145.162 Q806.089 145.162 808.265 143.588 Q810.441 142.014 810.441 139.097 Q810.441 136.551 808.867 135.115 Q807.316 133.68 803.751 132.963 L800.904 132.407 Q795.672 131.365 793.334 129.143 Q790.996 126.921 790.996 122.963 Q790.996 118.379 794.214 115.74 Q797.455 113.102 803.126 113.102 Q805.556 113.102 808.08 113.541 Q810.603 113.981 813.242 114.861 Z\" fill=\"#000000\" fill-rule=\"evenodd\" fill-opacity=\"1\" /><circle clip-path=\"url(#clip560)\" cx=\"523.085\" cy=\"182.847\" r=\"23.04\" fill=\"#e26f46\" fill-rule=\"evenodd\" fill-opacity=\"1\" stroke=\"#000000\" stroke-opacity=\"1\" stroke-width=\"7.68\"/>\n<path clip-path=\"url(#clip560)\" d=\"M649.816 165.567 L671.668 165.567 L671.668 169.502 L654.492 169.502 L654.492 179.733 L670.951 179.733 L670.951 183.668 L654.492 183.668 L654.492 196.191 L672.085 196.191 L672.085 200.127 L649.816 200.127 L649.816 165.567 Z\" fill=\"#000000\" fill-rule=\"evenodd\" fill-opacity=\"1\" /><path clip-path=\"url(#clip560)\" d=\"M701.136 174.201 L691.761 186.817 L701.622 200.127 L696.599 200.127 L689.052 189.941 L681.506 200.127 L676.483 200.127 L686.552 186.562 L677.339 174.201 L682.363 174.201 L689.238 183.437 L696.113 174.201 L701.136 174.201 Z\" fill=\"#000000\" fill-rule=\"evenodd\" fill-opacity=\"1\" /><path clip-path=\"url(#clip560)\" d=\"M719.423 187.094 Q714.261 187.094 712.27 188.275 Q710.279 189.455 710.279 192.303 Q710.279 194.571 711.761 195.914 Q713.265 197.233 715.835 197.233 Q719.376 197.233 721.506 194.733 Q723.659 192.21 723.659 188.043 L723.659 187.094 L719.423 187.094 M727.918 185.335 L727.918 200.127 L723.659 200.127 L723.659 196.191 Q722.2 198.553 720.024 199.687 Q717.849 200.798 714.7 200.798 Q710.719 200.798 708.358 198.576 Q706.02 196.33 706.02 192.58 Q706.02 188.205 708.937 185.983 Q711.876 183.761 717.686 183.761 L723.659 183.761 L723.659 183.344 Q723.659 180.405 721.714 178.807 Q719.793 177.187 716.298 177.187 Q714.075 177.187 711.969 177.719 Q709.862 178.252 707.918 179.317 L707.918 175.381 Q710.256 174.479 712.455 174.039 Q714.654 173.576 716.737 173.576 Q722.362 173.576 725.14 176.492 Q727.918 179.409 727.918 185.335 Z\" fill=\"#000000\" fill-rule=\"evenodd\" fill-opacity=\"1\" /><path clip-path=\"url(#clip560)\" d=\"M755.348 175.196 L755.348 179.178 Q753.543 178.182 751.714 177.696 Q749.909 177.187 748.057 177.187 Q743.913 177.187 741.622 179.826 Q739.33 182.442 739.33 187.187 Q739.33 191.932 741.622 194.571 Q743.913 197.187 748.057 197.187 Q749.909 197.187 751.714 196.701 Q753.543 196.191 755.348 195.196 L755.348 199.131 Q753.566 199.965 751.645 200.381 Q749.746 200.798 747.594 200.798 Q741.737 200.798 738.288 197.117 Q734.839 193.437 734.839 187.187 Q734.839 180.844 738.311 177.21 Q741.807 173.576 747.871 173.576 Q749.839 173.576 751.714 173.993 Q753.589 174.386 755.348 175.196 Z\" fill=\"#000000\" fill-rule=\"evenodd\" fill-opacity=\"1\" /><path clip-path=\"url(#clip560)\" d=\"M766.969 166.84 L766.969 174.201 L775.742 174.201 L775.742 177.511 L766.969 177.511 L766.969 191.585 Q766.969 194.756 767.825 195.659 Q768.705 196.562 771.367 196.562 L775.742 196.562 L775.742 200.127 L771.367 200.127 Q766.436 200.127 764.561 198.298 Q762.686 196.446 762.686 191.585 L762.686 177.511 L759.561 177.511 L759.561 174.201 L762.686 174.201 L762.686 166.84 L766.969 166.84 Z\" fill=\"#000000\" fill-rule=\"evenodd\" fill-opacity=\"1\" /><path clip-path=\"url(#clip560)\" d=\"M301.306 2204.92 L3152.76 2204.92 L3152.76 1247.24 L301.306 1247.24  Z\" fill=\"#ffffff\" fill-rule=\"evenodd\" fill-opacity=\"1\"/>\n<defs>\n  <clipPath id=\"clip563\">\n    <rect x=\"301\" y=\"1247\" width=\"2852\" height=\"959\"/>\n  </clipPath>\n</defs>\n<polyline clip-path=\"url(#clip563)\" style=\"stroke:#000000; stroke-linecap:round; stroke-linejoin:round; stroke-width:2; stroke-opacity:0.1; fill:none\" points=\"382.007,2204.92 382.007,1247.24 \"/>\n<polyline clip-path=\"url(#clip563)\" style=\"stroke:#000000; stroke-linecap:round; stroke-linejoin:round; stroke-width:2; stroke-opacity:0.1; fill:none\" points=\"1054.52,2204.92 1054.52,1247.24 \"/>\n<polyline clip-path=\"url(#clip563)\" style=\"stroke:#000000; stroke-linecap:round; stroke-linejoin:round; stroke-width:2; stroke-opacity:0.1; fill:none\" points=\"1727.03,2204.92 1727.03,1247.24 \"/>\n<polyline clip-path=\"url(#clip563)\" style=\"stroke:#000000; stroke-linecap:round; stroke-linejoin:round; stroke-width:2; stroke-opacity:0.1; fill:none\" points=\"2399.54,2204.92 2399.54,1247.24 \"/>\n<polyline clip-path=\"url(#clip563)\" style=\"stroke:#000000; stroke-linecap:round; stroke-linejoin:round; stroke-width:2; stroke-opacity:0.1; fill:none\" points=\"3072.05,2204.92 3072.05,1247.24 \"/>\n<polyline clip-path=\"url(#clip560)\" style=\"stroke:#000000; stroke-linecap:round; stroke-linejoin:round; stroke-width:4; stroke-opacity:1; fill:none\" points=\"301.306,2204.92 3152.76,2204.92 \"/>\n<polyline clip-path=\"url(#clip560)\" style=\"stroke:#000000; stroke-linecap:round; stroke-linejoin:round; stroke-width:4; stroke-opacity:1; fill:none\" points=\"382.007,2204.92 382.007,2186.02 \"/>\n<polyline clip-path=\"url(#clip560)\" style=\"stroke:#000000; stroke-linecap:round; stroke-linejoin:round; stroke-width:4; stroke-opacity:1; fill:none\" points=\"1054.52,2204.92 1054.52,2186.02 \"/>\n<polyline clip-path=\"url(#clip560)\" style=\"stroke:#000000; stroke-linecap:round; stroke-linejoin:round; stroke-width:4; stroke-opacity:1; fill:none\" points=\"1727.03,2204.92 1727.03,2186.02 \"/>\n<polyline clip-path=\"url(#clip560)\" style=\"stroke:#000000; stroke-linecap:round; stroke-linejoin:round; stroke-width:4; stroke-opacity:1; fill:none\" points=\"2399.54,2204.92 2399.54,2186.02 \"/>\n<polyline clip-path=\"url(#clip560)\" style=\"stroke:#000000; stroke-linecap:round; stroke-linejoin:round; stroke-width:4; stroke-opacity:1; fill:none\" points=\"3072.05,2204.92 3072.05,2186.02 \"/>\n<path clip-path=\"url(#clip560)\" d=\"M372.389 2269.78 L380.028 2269.78 L380.028 2243.42 L371.718 2245.09 L371.718 2240.83 L379.982 2239.16 L384.658 2239.16 L384.658 2269.78 L392.297 2269.78 L392.297 2273.72 L372.389 2273.72 L372.389 2269.78 Z\" fill=\"#000000\" fill-rule=\"evenodd\" fill-opacity=\"1\" /><path clip-path=\"url(#clip560)\" d=\"M1049.17 2269.78 L1065.49 2269.78 L1065.49 2273.72 L1043.55 2273.72 L1043.55 2269.78 Q1046.21 2267.03 1050.79 2262.4 Q1055.4 2257.75 1056.58 2256.41 Q1058.82 2253.88 1059.7 2252.15 Q1060.61 2250.39 1060.61 2248.7 Q1060.61 2245.94 1058.66 2244.21 Q1056.74 2242.47 1053.64 2242.47 Q1051.44 2242.47 1048.99 2243.23 Q1046.56 2244 1043.78 2245.55 L1043.78 2240.83 Q1046.6 2239.69 1049.06 2239.11 Q1051.51 2238.53 1053.55 2238.53 Q1058.92 2238.53 1062.11 2241.22 Q1065.31 2243.91 1065.31 2248.4 Q1065.31 2250.53 1064.5 2252.45 Q1063.71 2254.34 1061.6 2256.94 Q1061.02 2257.61 1057.92 2260.83 Q1054.82 2264.02 1049.17 2269.78 Z\" fill=\"#000000\" fill-rule=\"evenodd\" fill-opacity=\"1\" /><path clip-path=\"url(#clip560)\" d=\"M1731.28 2255.09 Q1734.64 2255.8 1736.51 2258.07 Q1738.41 2260.34 1738.41 2263.67 Q1738.41 2268.79 1734.89 2271.59 Q1731.37 2274.39 1724.89 2274.39 Q1722.71 2274.39 1720.4 2273.95 Q1718.11 2273.53 1715.65 2272.68 L1715.65 2268.16 Q1717.6 2269.3 1719.91 2269.88 Q1722.23 2270.46 1724.75 2270.46 Q1729.15 2270.46 1731.44 2268.72 Q1733.76 2266.98 1733.76 2263.67 Q1733.76 2260.62 1731.6 2258.91 Q1729.47 2257.17 1725.65 2257.17 L1721.63 2257.17 L1721.63 2253.33 L1725.84 2253.33 Q1729.29 2253.33 1731.12 2251.96 Q1732.95 2250.57 1732.95 2247.98 Q1732.95 2245.32 1731.05 2243.91 Q1729.17 2242.47 1725.65 2242.47 Q1723.73 2242.47 1721.53 2242.89 Q1719.33 2243.3 1716.7 2244.18 L1716.7 2240.02 Q1719.36 2239.28 1721.67 2238.91 Q1724.01 2238.53 1726.07 2238.53 Q1731.39 2238.53 1734.5 2240.97 Q1737.6 2243.37 1737.6 2247.49 Q1737.6 2250.36 1735.95 2252.35 Q1734.31 2254.32 1731.28 2255.09 Z\" fill=\"#000000\" fill-rule=\"evenodd\" fill-opacity=\"1\" /><path clip-path=\"url(#clip560)\" d=\"M2402.55 2243.23 L2390.75 2261.68 L2402.55 2261.68 L2402.55 2243.23 M2401.33 2239.16 L2407.2 2239.16 L2407.2 2261.68 L2412.14 2261.68 L2412.14 2265.57 L2407.2 2265.57 L2407.2 2273.72 L2402.55 2273.72 L2402.55 2265.57 L2386.95 2265.57 L2386.95 2261.06 L2401.33 2239.16 Z\" fill=\"#000000\" fill-rule=\"evenodd\" fill-opacity=\"1\" /><path clip-path=\"url(#clip560)\" d=\"M3062.33 2239.16 L3080.69 2239.16 L3080.69 2243.1 L3066.61 2243.1 L3066.61 2251.57 Q3067.63 2251.22 3068.65 2251.06 Q3069.67 2250.87 3070.69 2250.87 Q3076.48 2250.87 3079.86 2254.04 Q3083.23 2257.22 3083.23 2262.63 Q3083.23 2268.21 3079.76 2271.31 Q3076.29 2274.39 3069.97 2274.39 Q3067.8 2274.39 3065.53 2274.02 Q3063.28 2273.65 3060.87 2272.91 L3060.87 2268.21 Q3062.96 2269.34 3065.18 2269.9 Q3067.4 2270.46 3069.88 2270.46 Q3073.88 2270.46 3076.22 2268.35 Q3078.56 2266.24 3078.56 2262.63 Q3078.56 2259.02 3076.22 2256.91 Q3073.88 2254.81 3069.88 2254.81 Q3068 2254.81 3066.13 2255.22 Q3064.28 2255.64 3062.33 2256.52 L3062.33 2239.16 Z\" fill=\"#000000\" fill-rule=\"evenodd\" fill-opacity=\"1\" /><path clip-path=\"url(#clip560)\" d=\"M1741.96 2340.27 L1741.96 2361.78 L1736.1 2361.78 L1736.1 2340.46 Q1736.1 2335.4 1734.13 2332.88 Q1732.16 2330.37 1728.21 2330.37 Q1723.47 2330.37 1720.73 2333.39 Q1717.99 2336.42 1717.99 2341.64 L1717.99 2361.78 L1712.1 2361.78 L1712.1 2326.14 L1717.99 2326.14 L1717.99 2331.67 Q1720.09 2328.46 1722.93 2326.87 Q1725.79 2325.28 1729.51 2325.28 Q1735.66 2325.28 1738.81 2329.1 Q1741.96 2332.88 1741.96 2340.27 Z\" fill=\"#000000\" fill-rule=\"evenodd\" fill-opacity=\"1\" /><polyline clip-path=\"url(#clip563)\" style=\"stroke:#000000; stroke-linecap:round; stroke-linejoin:round; stroke-width:2; stroke-opacity:0.1; fill:none\" points=\"301.306,1907.29 3152.76,1907.29 \"/>\n<polyline clip-path=\"url(#clip563)\" style=\"stroke:#000000; stroke-linecap:round; stroke-linejoin:round; stroke-width:2; stroke-opacity:0.1; fill:none\" points=\"301.306,1566.78 3152.76,1566.78 \"/>\n<polyline clip-path=\"url(#clip560)\" style=\"stroke:#000000; stroke-linecap:round; stroke-linejoin:round; stroke-width:4; stroke-opacity:1; fill:none\" points=\"301.306,2204.92 301.306,1247.24 \"/>\n<polyline clip-path=\"url(#clip560)\" style=\"stroke:#000000; stroke-linecap:round; stroke-linejoin:round; stroke-width:4; stroke-opacity:1; fill:none\" points=\"301.306,1907.29 320.204,1907.29 \"/>\n<polyline clip-path=\"url(#clip560)\" style=\"stroke:#000000; stroke-linecap:round; stroke-linejoin:round; stroke-width:4; stroke-opacity:1; fill:none\" points=\"301.306,1566.78 320.204,1566.78 \"/>\n<path clip-path=\"url(#clip560)\" d=\"M127.362 1927.09 L135.001 1927.09 L135.001 1900.72 L126.691 1902.39 L126.691 1898.13 L134.954 1896.46 L139.63 1896.46 L139.63 1927.09 L147.269 1927.09 L147.269 1931.02 L127.362 1931.02 L127.362 1927.09 Z\" fill=\"#000000\" fill-rule=\"evenodd\" fill-opacity=\"1\" /><path clip-path=\"url(#clip560)\" d=\"M166.713 1899.54 Q163.102 1899.54 161.274 1903.1 Q159.468 1906.65 159.468 1913.78 Q159.468 1920.88 161.274 1924.45 Q163.102 1927.99 166.713 1927.99 Q170.348 1927.99 172.153 1924.45 Q173.982 1920.88 173.982 1913.78 Q173.982 1906.65 172.153 1903.1 Q170.348 1899.54 166.713 1899.54 M166.713 1895.84 Q172.524 1895.84 175.579 1900.44 Q178.658 1905.03 178.658 1913.78 Q178.658 1922.5 175.579 1927.11 Q172.524 1931.69 166.713 1931.69 Q160.903 1931.69 157.825 1927.11 Q154.769 1922.5 154.769 1913.78 Q154.769 1905.03 157.825 1900.44 Q160.903 1895.84 166.713 1895.84 Z\" fill=\"#000000\" fill-rule=\"evenodd\" fill-opacity=\"1\" /><path clip-path=\"url(#clip560)\" d=\"M178.658 1889.94 L202.769 1889.94 L202.769 1893.13 L178.658 1893.13 L178.658 1889.94 Z\" fill=\"#000000\" fill-rule=\"evenodd\" fill-opacity=\"1\" /><path clip-path=\"url(#clip560)\" d=\"M211.628 1900.41 L217.834 1900.41 L217.834 1878.99 L211.082 1880.35 L211.082 1876.88 L217.797 1875.53 L221.596 1875.53 L221.596 1900.41 L227.803 1900.41 L227.803 1903.61 L211.628 1903.61 L211.628 1900.41 Z\" fill=\"#000000\" fill-rule=\"evenodd\" fill-opacity=\"1\" /><path clip-path=\"url(#clip560)\" d=\"M243.601 1878.03 Q240.667 1878.03 239.181 1880.93 Q237.714 1883.81 237.714 1889.6 Q237.714 1895.37 239.181 1898.27 Q240.667 1901.15 243.601 1901.15 Q246.554 1901.15 248.021 1898.27 Q249.507 1895.37 249.507 1889.6 Q249.507 1883.81 248.021 1880.93 Q246.554 1878.03 243.601 1878.03 M243.601 1875.02 Q248.322 1875.02 250.804 1878.77 Q253.306 1882.49 253.306 1889.6 Q253.306 1896.69 250.804 1900.43 Q248.322 1904.16 243.601 1904.16 Q238.88 1904.16 236.379 1900.43 Q233.896 1896.69 233.896 1889.6 Q233.896 1882.49 236.379 1878.77 Q238.88 1875.02 243.601 1875.02 Z\" fill=\"#000000\" fill-rule=\"evenodd\" fill-opacity=\"1\" /><path clip-path=\"url(#clip560)\" d=\"M152.677 1586.58 L160.316 1586.58 L160.316 1560.21 L152.006 1561.88 L152.006 1557.62 L160.27 1555.95 L164.946 1555.95 L164.946 1586.58 L172.584 1586.58 L172.584 1590.51 L152.677 1590.51 L152.677 1586.58 Z\" fill=\"#000000\" fill-rule=\"evenodd\" fill-opacity=\"1\" /><path clip-path=\"url(#clip560)\" d=\"M192.029 1559.03 Q188.418 1559.03 186.589 1562.6 Q184.783 1566.14 184.783 1573.27 Q184.783 1580.37 186.589 1583.94 Q188.418 1587.48 192.029 1587.48 Q195.663 1587.48 197.469 1583.94 Q199.297 1580.37 199.297 1573.27 Q199.297 1566.14 197.469 1562.6 Q195.663 1559.03 192.029 1559.03 M192.029 1555.33 Q197.839 1555.33 200.894 1559.93 Q203.973 1564.52 203.973 1573.27 Q203.973 1581.99 200.894 1586.6 Q197.839 1591.18 192.029 1591.18 Q186.219 1591.18 183.14 1586.6 Q180.084 1581.99 180.084 1573.27 Q180.084 1564.52 183.14 1559.93 Q186.219 1555.33 192.029 1555.33 Z\" fill=\"#000000\" fill-rule=\"evenodd\" fill-opacity=\"1\" /><path clip-path=\"url(#clip560)\" d=\"M203.973 1549.43 L228.085 1549.43 L228.085 1552.63 L203.973 1552.63 L203.973 1549.43 Z\" fill=\"#000000\" fill-rule=\"evenodd\" fill-opacity=\"1\" /><path clip-path=\"url(#clip560)\" d=\"M236.322 1535.02 L251.237 1535.02 L251.237 1538.22 L239.802 1538.22 L239.802 1545.1 Q240.629 1544.82 241.457 1544.69 Q242.285 1544.54 243.112 1544.54 Q247.814 1544.54 250.56 1547.11 Q253.306 1549.69 253.306 1554.09 Q253.306 1558.63 250.485 1561.15 Q247.664 1563.65 242.529 1563.65 Q240.761 1563.65 238.918 1563.35 Q237.094 1563.04 235.138 1562.44 L235.138 1558.63 Q236.83 1559.55 238.636 1560 Q240.441 1560.45 242.454 1560.45 Q245.708 1560.45 247.607 1558.74 Q249.507 1557.03 249.507 1554.09 Q249.507 1551.16 247.607 1549.45 Q245.708 1547.74 242.454 1547.74 Q240.93 1547.74 239.407 1548.07 Q237.902 1548.41 236.322 1549.13 L236.322 1535.02 Z\" fill=\"#000000\" fill-rule=\"evenodd\" fill-opacity=\"1\" /><path clip-path=\"url(#clip560)\" d=\"M80.9619 1933.53 L19.5453 1933.53 Q17.0977 1933.53 17.0977 1932.21 Q17.0977 1930.89 19.0622 1930.89 L80.4788 1930.89 Q82.9265 1930.89 82.9265 1932.21 Q82.9265 1933.53 80.9619 1933.53 Z\" fill=\"#000000\" fill-rule=\"evenodd\" fill-opacity=\"1\" /><path clip-path=\"url(#clip560)\" d=\"M50.0121 1916.87 Q38.8688 1916.87 29.8834 1912.72 Q26.1153 1910.95 22.9591 1908.47 Q19.803 1905.99 18.4181 1904.35 Q17.0333 1902.7 17.0333 1902.25 Q17.0333 1901.61 17.6774 1901.58 Q17.9994 1901.58 18.8046 1902.45 Q29.6258 1913.07 50.0121 1913.04 Q70.4628 1913.04 80.8653 1902.7 Q81.9925 1901.58 82.3468 1901.58 Q82.9909 1901.58 82.9909 1902.25 Q82.9909 1902.7 81.6704 1904.28 Q80.35 1905.86 77.3226 1908.31 Q74.2953 1910.76 70.5916 1912.53 Q61.6062 1916.87 50.0121 1916.87 Z\" fill=\"#000000\" fill-rule=\"evenodd\" fill-opacity=\"1\" /><path clip-path=\"url(#clip560)\" d=\"M23.4422 1847.69 L34.8431 1849.01 Q35.8737 1849.1 36.1958 1849.27 Q36.4856 1849.43 36.4856 1849.94 Q36.4856 1850.33 36.2602 1850.55 Q36.0025 1850.75 35.7127 1850.75 Q35.5516 1850.75 35.133 1850.71 Q34.7143 1850.68 34.521 1850.68 Q32.5243 1850.39 31.0106 1850.39 Q28.2087 1850.39 26.695 1851.23 Q25.1491 1852.07 24.4406 1854.23 Q23.6999 1856.38 23.6999 1860.44 L23.6999 1869.72 Q23.6999 1871.84 24.0863 1872.36 Q24.4728 1872.84 26.2763 1873.29 L42.1538 1877.25 L42.1538 1871.04 Q42.1538 1868.72 41.864 1867.33 Q41.5741 1865.92 40.769 1864.98 Q39.9316 1864.02 38.8044 1863.5 Q37.6772 1862.95 35.6483 1862.41 Q34.9719 1862.24 34.7143 1862.08 Q34.4566 1861.89 34.4566 1861.47 Q34.4566 1861.15 34.6821 1860.92 Q34.8753 1860.7 35.1652 1860.7 L50.5918 1864.47 Q51.3647 1864.66 51.6546 1864.85 Q51.9122 1865.05 51.9122 1865.43 Q51.9122 1865.85 51.6868 1866.08 Q51.4613 1866.3 51.2037 1866.3 Q50.946 1866.3 50.463 1866.11 Q48.3696 1865.63 47.2424 1865.63 Q46.5982 1865.63 46.2762 1865.69 Q45.9541 1865.72 45.5032 1866.01 Q45.0202 1866.27 44.7947 1866.85 Q44.5693 1867.43 44.4082 1868.52 Q44.215 1869.62 44.215 1871.26 L44.215 1877.77 L62.2181 1882.28 Q63.4097 1882.6 63.7318 1882.6 Q64.086 1882.6 64.2149 1882.44 Q64.3115 1882.24 64.3759 1881.73 Q64.4725 1881.15 64.4725 1880.28 L64.4725 1870.65 Q64.4725 1868.52 64.2793 1866.82 Q64.086 1865.11 63.6029 1863.69 Q63.1199 1862.24 62.5724 1861.15 Q62.0249 1860.05 61.0265 1859.02 Q59.9959 1857.99 59.0941 1857.28 Q58.1602 1856.54 56.5821 1855.67 Q55.004 1854.8 53.7157 1854.19 Q52.3953 1853.58 50.2697 1852.65 Q49.4968 1852.39 49.4968 1851.78 Q49.4968 1851.42 49.69 1851.23 Q49.851 1851.04 50.0121 1851 L50.2053 1851 Q50.8172 1851.2 51.1393 1851.33 L65.3743 1857.38 Q66.1794 1857.74 66.3404 1858.03 Q66.5015 1858.32 66.5015 1859.44 L66.5015 1893.68 Q66.5015 1894.45 66.4693 1894.77 Q66.4371 1895.06 66.276 1895.29 Q66.0828 1895.51 65.6963 1895.51 Q65.0844 1895.51 64.8268 1895.26 Q64.5369 1895 64.5047 1894.71 Q64.4725 1894.42 64.4725 1893.68 Q64.4725 1892.07 64.3759 1891.1 Q64.2793 1890.13 64.1504 1889.52 Q63.9894 1888.88 63.5385 1888.56 Q63.0876 1888.2 62.7012 1888.04 Q62.2825 1887.88 61.3485 1887.65 L26.4696 1878.96 Q25.278 1878.64 24.8915 1878.64 Q24.4728 1878.64 24.2152 1878.93 Q23.9575 1879.18 23.8609 1879.89 Q23.7321 1880.6 23.7321 1881.18 Q23.6999 1881.73 23.6999 1882.92 Q23.6999 1883.69 23.6677 1884.02 Q23.6355 1884.31 23.4744 1884.53 Q23.3134 1884.76 22.9591 1884.76 Q22.0574 1884.76 21.8641 1884.37 Q21.6387 1883.95 21.6387 1882.79 L21.6387 1849.49 Q21.6387 1848.17 21.9286 1847.88 Q22.1862 1847.56 23.4422 1847.69 Z\" fill=\"#000000\" fill-rule=\"evenodd\" fill-opacity=\"1\" /><path clip-path=\"url(#clip560)\" d=\"M49.0781 1785.49 Q49.4646 1785.1 50.0121 1785.1 Q50.5596 1785.1 50.946 1785.49 Q51.3325 1785.88 51.3325 1786.42 L51.3325 1827.71 Q51.3325 1828.26 50.946 1828.65 Q50.5596 1829.03 50.0121 1829.03 Q49.4646 1829.03 49.0781 1828.65 Q48.6916 1828.26 48.6916 1827.71 L48.6916 1786.42 Q48.6916 1785.88 49.0781 1785.49 Z\" fill=\"#000000\" fill-rule=\"evenodd\" fill-opacity=\"1\" /><path clip-path=\"url(#clip560)\" d=\"M23.4422 1712.11 L34.8431 1713.43 Q35.8737 1713.53 36.1958 1713.69 Q36.4856 1713.85 36.4856 1714.36 Q36.4856 1714.75 36.2602 1714.98 Q36.0025 1715.17 35.7127 1715.17 Q35.5516 1715.17 35.133 1715.14 Q34.7143 1715.1 34.521 1715.1 Q32.5243 1714.81 31.0106 1714.81 Q28.2087 1714.81 26.695 1715.65 Q25.1491 1716.49 24.4406 1718.65 Q23.6999 1720.8 23.6999 1724.86 L23.6999 1734.14 Q23.6999 1736.26 24.0863 1736.78 Q24.4728 1737.26 26.2763 1737.71 L42.1538 1741.67 L42.1538 1735.46 Q42.1538 1733.14 41.864 1731.75 Q41.5741 1730.34 40.769 1729.4 Q39.9316 1728.44 38.8044 1727.92 Q37.6772 1727.37 35.6483 1726.83 Q34.9719 1726.67 34.7143 1726.51 Q34.4566 1726.31 34.4566 1725.89 Q34.4566 1725.57 34.6821 1725.35 Q34.8753 1725.12 35.1652 1725.12 L50.5918 1728.89 Q51.3647 1729.08 51.6546 1729.28 Q51.9122 1729.47 51.9122 1729.85 Q51.9122 1730.27 51.6868 1730.5 Q51.4613 1730.72 51.2037 1730.72 Q50.946 1730.72 50.463 1730.53 Q48.3696 1730.05 47.2424 1730.05 Q46.5982 1730.05 46.2762 1730.11 Q45.9541 1730.14 45.5032 1730.43 Q45.0202 1730.69 44.7947 1731.27 Q44.5693 1731.85 44.4082 1732.95 Q44.215 1734.04 44.215 1735.68 L44.215 1742.19 L62.2181 1746.7 Q63.4097 1747.02 63.7318 1747.02 Q64.086 1747.02 64.2149 1746.86 Q64.3115 1746.67 64.3759 1746.15 Q64.4725 1745.57 64.4725 1744.7 L64.4725 1735.07 Q64.4725 1732.95 64.2793 1731.24 Q64.086 1729.53 63.6029 1728.12 Q63.1199 1726.67 62.5724 1725.57 Q62.0249 1724.48 61.0265 1723.45 Q59.9959 1722.42 59.0941 1721.71 Q58.1602 1720.97 56.5821 1720.1 Q55.004 1719.23 53.7157 1718.61 Q52.3953 1718 50.2697 1717.07 Q49.4968 1716.81 49.4968 1716.2 Q49.4968 1715.85 49.69 1715.65 Q49.851 1715.46 50.0121 1715.43 L50.2053 1715.43 Q50.8172 1715.62 51.1393 1715.75 L65.3743 1721.8 Q66.1794 1722.16 66.3404 1722.45 Q66.5015 1722.74 66.5015 1723.86 L66.5015 1758.1 Q66.5015 1758.87 66.4693 1759.19 Q66.4371 1759.48 66.276 1759.71 Q66.0828 1759.94 65.6963 1759.94 Q65.0844 1759.94 64.8268 1759.68 Q64.5369 1759.42 64.5047 1759.13 Q64.4725 1758.84 64.4725 1758.1 Q64.4725 1756.49 64.3759 1755.52 Q64.2793 1754.56 64.1504 1753.94 Q63.9894 1753.3 63.5385 1752.98 Q63.0876 1752.62 62.7012 1752.46 Q62.2825 1752.3 61.3485 1752.08 L26.4696 1743.38 Q25.278 1743.06 24.8915 1743.06 Q24.4728 1743.06 24.2152 1743.35 Q23.9575 1743.61 23.8609 1744.32 Q23.7321 1745.02 23.7321 1745.6 Q23.6999 1746.15 23.6999 1747.34 Q23.6999 1748.12 23.6677 1748.44 Q23.6355 1748.73 23.4744 1748.95 Q23.3134 1749.18 22.9591 1749.18 Q22.0574 1749.18 21.8641 1748.79 Q21.6387 1748.37 21.6387 1747.21 L21.6387 1713.91 Q21.6387 1712.59 21.9286 1712.3 Q22.1862 1711.98 23.4422 1712.11 Z\" fill=\"#000000\" fill-rule=\"evenodd\" fill-opacity=\"1\" /><path clip-path=\"url(#clip560)\" d=\"M73.2773 1687.85 Q73.4802 1687.67 73.6831 1687.67 Q73.886 1687.67 74.4721 1688.12 Q75.0583 1688.55 75.8473 1689.48 Q76.6363 1690.4 77.3803 1691.6 Q78.1242 1692.79 78.6202 1694.55 Q79.1387 1696.31 79.1387 1698.16 Q79.1387 1701.47 76.7716 1703.45 Q74.4045 1705.42 70.7749 1705.42 Q68.4528 1705.42 66.4013 1704.65 Q64.3273 1703.88 62.8619 1702.64 Q61.3965 1701.38 60.337 1699.8 Q59.2548 1698.2 58.7363 1696.53 Q58.2178 1694.87 58.2178 1693.31 Q58.2178 1691.03 59.3676 1689.7 Q60.5173 1688.37 62.1405 1688.37 Q62.5237 1688.37 62.9972 1688.49 Q63.4706 1688.58 64.2145 1688.89 Q64.9585 1689.18 65.7024 1689.95 Q66.4239 1690.72 66.8973 1691.84 Q67.9569 1694.35 67.9569 1698.9 L67.9569 1701.36 Q70.865 1702.08 72.7588 1702.08 Q73.5027 1702.08 74.2692 1701.94 Q75.0132 1701.81 75.96 1701.45 Q76.9069 1701.06 77.5156 1700.21 Q78.1017 1699.33 78.1017 1698.07 Q78.1017 1697.66 78.0792 1697.23 Q78.0566 1696.78 77.8086 1695.65 Q77.5606 1694.5 77.1323 1693.49 Q76.704 1692.48 75.7797 1691.19 Q74.8328 1689.88 73.5478 1688.85 Q73.0744 1688.49 73.0744 1688.24 Q73.0744 1688.03 73.2773 1687.85 M62.1405 1689.91 Q60.9006 1689.91 60.0664 1690.83 Q59.2323 1691.73 59.2323 1693.31 Q59.2323 1693.81 59.345 1694.41 Q59.4577 1695.02 59.9312 1696.04 Q60.4046 1697.03 61.1936 1697.91 Q61.9601 1698.79 63.4706 1699.67 Q64.9585 1700.55 66.9424 1701.06 L66.9424 1699.17 Q66.9424 1698.52 66.9424 1698.04 Q66.9198 1697.57 66.8297 1696.53 Q66.7395 1695.47 66.5817 1694.71 Q66.4013 1693.94 66.0406 1692.97 Q65.6799 1692 65.2065 1691.39 Q64.7105 1690.76 63.9215 1690.33 Q63.1324 1689.91 62.1405 1689.91 Z\" fill=\"#000000\" fill-rule=\"evenodd\" fill-opacity=\"1\" /><path clip-path=\"url(#clip560)\" d=\"M61.2613 1662.16 Q62.5237 1662.16 63.2451 1662.95 Q63.944 1663.74 63.944 1664.64 Q63.944 1665.5 63.448 1665.95 Q62.9521 1666.4 62.3208 1666.4 Q61.4642 1666.4 60.7202 1665.77 Q59.9762 1665.14 59.8184 1664.19 Q59.2323 1665.12 59.2323 1666.49 Q59.2323 1667.4 59.7057 1668.18 Q60.1791 1668.95 60.7878 1669.42 Q61.3965 1669.87 62.2757 1670.28 Q63.1324 1670.66 63.6509 1670.82 Q64.1469 1670.96 64.688 1671.07 L71.0003 1672.65 Q73.9987 1673.41 75.0583 1673.41 Q76.3658 1673.41 77.245 1672.78 Q78.1017 1672.15 78.1017 1670.89 Q78.1017 1670.39 77.9664 1669.83 Q77.8086 1669.27 77.4028 1668.54 Q76.9745 1667.8 76.3433 1667.15 Q75.6895 1666.47 74.5848 1665.82 Q73.4802 1665.16 72.0599 1664.73 Q71.5639 1664.6 71.5639 1664.15 Q71.5639 1663.59 72.0148 1663.59 Q72.398 1663.59 73.2096 1663.9 Q73.9987 1664.19 75.0357 1664.85 Q76.0502 1665.48 76.9745 1666.31 Q77.8763 1667.15 78.5075 1668.39 Q79.1387 1669.63 79.1387 1670.98 Q79.1387 1672.92 78.1017 1674.2 Q77.0647 1675.49 75.6219 1675.96 Q75.8248 1676.07 76.0953 1676.23 Q76.3658 1676.39 76.9745 1676.86 Q77.5606 1677.31 78.0115 1677.83 Q78.4399 1678.35 78.778 1679.16 Q79.1387 1679.95 79.1387 1680.81 Q79.1387 1681.89 78.8231 1682.86 Q78.5075 1683.81 77.7861 1684.48 Q77.0647 1685.16 76.0727 1685.16 Q74.9681 1685.16 74.2016 1684.42 Q73.4125 1683.65 73.4125 1682.61 Q73.4125 1681.96 73.7958 1681.44 Q74.179 1680.9 75.0132 1680.9 Q75.9375 1680.9 76.6363 1681.53 Q77.3352 1682.16 77.5156 1683.06 Q78.1017 1682.14 78.1017 1680.76 Q78.1017 1679.28 76.7941 1678.1 Q75.4866 1676.93 73.2998 1676.37 Q68.047 1674.97 65.7024 1674.43 Q63.3353 1673.89 62.3208 1673.89 Q61.374 1673.89 60.7202 1674.14 Q60.0664 1674.38 59.7733 1674.81 Q59.4577 1675.22 59.345 1675.6 Q59.2323 1675.96 59.2323 1676.37 Q59.2323 1677.04 59.5028 1677.81 Q59.7733 1678.55 60.4046 1679.46 Q61.0133 1680.34 62.2757 1681.17 Q63.5382 1682 65.2741 1682.57 Q65.7926 1682.68 65.7926 1683.18 Q65.7701 1683.72 65.3192 1683.72 Q64.9359 1683.72 64.1469 1683.42 Q63.3353 1683.11 62.3208 1682.48 Q61.3063 1681.82 60.4046 1680.99 Q59.4803 1680.13 58.849 1678.89 Q58.2178 1677.63 58.2178 1676.28 Q58.2178 1675.67 58.3531 1675.08 Q58.4658 1674.47 58.804 1673.75 Q59.1421 1673.01 59.8861 1672.35 Q60.63 1671.7 61.7121 1671.3 Q61.1936 1671.02 60.6977 1670.66 Q60.2017 1670.28 59.593 1669.69 Q58.9618 1669.09 58.6011 1668.25 Q58.2178 1667.4 58.2178 1666.45 Q58.2178 1665.52 58.4658 1664.62 Q58.6912 1663.72 59.4352 1662.95 Q60.1566 1662.16 61.2613 1662.16 Z\" fill=\"#000000\" fill-rule=\"evenodd\" fill-opacity=\"1\" /><path clip-path=\"url(#clip560)\" d=\"M82.3468 1651.98 Q82.0247 1651.98 81.2195 1651.14 Q70.3984 1640.51 50.0121 1640.51 Q29.5613 1640.51 19.2233 1650.72 Q18.0316 1651.98 17.6774 1651.98 Q17.0333 1651.98 17.0333 1651.33 Q17.0333 1650.88 18.3537 1649.31 Q19.6741 1647.7 22.7015 1645.28 Q25.7288 1642.83 29.4325 1641.03 Q38.418 1636.68 50.0121 1636.68 Q61.1553 1636.68 70.1407 1640.84 Q73.9088 1642.61 77.065 1645.09 Q80.2212 1647.57 81.606 1649.21 Q82.9909 1650.85 82.9909 1651.33 Q82.9909 1651.98 82.3468 1651.98 Z\" fill=\"#000000\" fill-rule=\"evenodd\" fill-opacity=\"1\" /><path clip-path=\"url(#clip560)\" d=\"M80.9619 1622.96 L19.5453 1622.96 Q17.0977 1622.96 17.0977 1621.64 Q17.0977 1620.32 19.0622 1620.32 L80.4788 1620.32 Q82.9265 1620.32 82.9265 1621.64 Q82.9265 1622.96 80.9619 1622.96 Z\" fill=\"#000000\" fill-rule=\"evenodd\" fill-opacity=\"1\" /><path clip-path=\"url(#clip560)\" d=\"M82.0569 1595.74 Q81.7348 1595.74 81.0263 1595.49 L18.8046 1572.2 Q18.7402 1572.2 18.3859 1572.04 Q18.0316 1571.88 17.8062 1571.78 Q17.5486 1571.68 17.3553 1571.49 Q17.1621 1571.27 17.1621 1571.01 Q17.1621 1570.36 17.9672 1570.36 Q18.0316 1570.36 18.8046 1570.56 L81.0907 1593.91 Q82.2179 1594.29 82.54 1594.55 Q82.862 1594.78 82.862 1595.16 Q82.862 1595.74 82.0569 1595.74 Z\" fill=\"#000000\" fill-rule=\"evenodd\" fill-opacity=\"1\" /><path clip-path=\"url(#clip560)\" d=\"M50.2053 1523.25 Q50.3985 1523.25 51.1393 1523.51 L65.3743 1528.72 Q66.2116 1529.01 66.3726 1529.3 Q66.5015 1529.59 66.5015 1530.78 L66.5015 1561.32 Q66.5015 1562.06 66.4693 1562.35 Q66.4371 1562.64 66.276 1562.86 Q66.115 1563.09 65.7607 1563.09 Q65.1166 1563.09 64.8268 1562.86 Q64.5369 1562.6 64.5047 1562.31 Q64.4725 1562.02 64.4725 1561.32 Q64.4725 1559.7 64.3759 1558.74 Q64.2793 1557.77 64.1504 1557.16 Q63.9894 1556.52 63.5385 1556.19 Q63.0876 1555.84 62.7012 1555.68 Q62.2825 1555.52 61.3485 1555.29 L25.9221 1546.47 Q24.8593 1546.21 24.6983 1546.21 Q24.0863 1546.21 23.9253 1546.6 Q23.7321 1546.95 23.6355 1547.98 L23.5066 1550.49 Q23.5066 1551.27 23.4744 1551.59 Q23.4422 1551.88 23.2812 1552.1 Q23.1202 1552.33 22.7659 1552.33 Q22.154 1552.33 21.8641 1552.1 Q21.5421 1551.85 21.5099 1551.65 Q21.4455 1551.43 21.4455 1551.07 L21.6387 1542.31 L21.4455 1532.56 Q21.4455 1531.49 22.2506 1531.49 Q23.1524 1531.49 23.3456 1531.94 Q23.5066 1532.39 23.5066 1534 Q23.5066 1537.1 23.8287 1538.51 Q24.1508 1539.9 24.6983 1540.28 Q25.2136 1540.64 26.5984 1540.99 L62.2181 1549.91 Q63.4097 1550.24 63.7318 1550.24 Q64.086 1550.24 64.2149 1550.08 Q64.3115 1549.88 64.3759 1549.37 Q64.4725 1548.79 64.4725 1547.92 L64.4725 1541.73 Q64.4725 1539.87 64.1826 1538.22 Q63.8928 1536.58 63.4741 1535.33 Q63.0554 1534.04 62.2825 1532.88 Q61.5096 1531.72 60.8332 1530.91 Q60.1247 1530.08 59.0297 1529.27 Q57.9025 1528.43 57.1296 1527.95 Q56.3244 1527.43 55.0362 1526.85 Q53.7157 1526.28 52.975 1525.99 Q52.2021 1525.66 50.8816 1525.18 Q50.2053 1524.89 50.0121 1524.79 Q49.8188 1524.7 49.6578 1524.54 Q49.4968 1524.34 49.4968 1524.05 Q49.4968 1523.67 49.7222 1523.47 Q49.9477 1523.25 50.2053 1523.25 Z\" fill=\"#000000\" fill-rule=\"evenodd\" fill-opacity=\"1\" /><circle clip-path=\"url(#clip563)\" cx=\"382.007\" cy=\"2177.82\" r=\"14.4\" fill=\"#009af9\" fill-rule=\"evenodd\" fill-opacity=\"1\" stroke=\"#000000\" stroke-opacity=\"1\" stroke-width=\"4.8\"/>\n<circle clip-path=\"url(#clip563)\" cx=\"1054.52\" cy=\"1604.55\" r=\"14.4\" fill=\"#009af9\" fill-rule=\"evenodd\" fill-opacity=\"1\" stroke=\"#000000\" stroke-opacity=\"1\" stroke-width=\"4.8\"/>\n<circle clip-path=\"url(#clip563)\" cx=\"1727.03\" cy=\"1274.35\" r=\"14.4\" fill=\"#009af9\" fill-rule=\"evenodd\" fill-opacity=\"1\" stroke=\"#000000\" stroke-opacity=\"1\" stroke-width=\"4.8\"/>\n<circle clip-path=\"url(#clip563)\" cx=\"2399.54\" cy=\"1410.79\" r=\"14.4\" fill=\"#009af9\" fill-rule=\"evenodd\" fill-opacity=\"1\" stroke=\"#000000\" stroke-opacity=\"1\" stroke-width=\"4.8\"/>\n<circle clip-path=\"url(#clip563)\" cx=\"3072.05\" cy=\"1335.11\" r=\"14.4\" fill=\"#009af9\" fill-rule=\"evenodd\" fill-opacity=\"1\" stroke=\"#000000\" stroke-opacity=\"1\" stroke-width=\"4.8\"/>\n</svg>\n"
     },
     "metadata": {},
     "output_type": "display_data"
    }
   ],
   "source": [
    "p1 = plot([energies ex_energies], seriestype = :scatter, label = [\"ADMPS\" \"Exact\"], legend = :topleft)\n",
    "xlabel!(p1, \"n\")\n",
    "ylabel!(p1, \"E/L\")\n",
    "p2 = plot(abs.(energies .- ex_energies), seriestype = :scatter, legend = false, yscale = :log10)\n",
    "xlabel!(p2, \"n\")\n",
    "ylabel!(p2, L\"|(E - E_{ex})|/L\")\n",
    "\n",
    "\n",
    "pc = plot(p1,p2, size = (800,600), layout = (2,1))\n",
    "savefig(pc, \"excited_states_TFI_para.pdf\")\n",
    "display(pc)"
   ]
  }
 ],
 "metadata": {
  "kernelspec": {
   "display_name": "Julia 1.8.5",
   "language": "julia",
   "name": "julia-1.8"
  },
  "language_info": {
   "file_extension": ".jl",
   "mimetype": "application/julia",
   "name": "julia",
   "version": "1.8.5"
  }
 },
 "nbformat": 4,
 "nbformat_minor": 5
}
